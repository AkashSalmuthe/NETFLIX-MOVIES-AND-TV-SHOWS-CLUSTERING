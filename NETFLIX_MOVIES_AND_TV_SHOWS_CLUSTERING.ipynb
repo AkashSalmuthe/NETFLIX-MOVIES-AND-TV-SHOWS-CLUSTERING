{
  "nbformat": 4,
  "nbformat_minor": 0,
  "metadata": {
    "colab": {
      "name": "NETFLIX MOVIES AND TV SHOWS CLUSTERING.ipynb",
      "provenance": [],
      "collapsed_sections": [],
      "include_colab_link": true
    },
    "kernelspec": {
      "name": "python3",
      "display_name": "Python 3"
    },
    "language_info": {
      "name": "python"
    }
  },
  "cells": [
    {
      "cell_type": "markdown",
      "metadata": {
        "id": "view-in-github",
        "colab_type": "text"
      },
      "source": [
        "<a href=\"https://colab.research.google.com/github/AkashSalmuthe/NETFLIX-MOVIES-AND-TV-SHOWS-CLUSTERING/blob/main/NETFLIX_MOVIES_AND_TV_SHOWS_CLUSTERING.ipynb\" target=\"_parent\"><img src=\"https://colab.research.google.com/assets/colab-badge.svg\" alt=\"Open In Colab\"/></a>"
      ]
    },
    {
      "cell_type": "markdown",
      "metadata": {
        "id": "LGcl5Bv9ed6u"
      },
      "source": [
        "# **Problem Statement**"
      ]
    },
    {
      "cell_type": "markdown",
      "metadata": {
        "id": "8M5kyFaVjzXk"
      },
      "source": [
        "This dataset consists of tv shows and movies available on Netflix as of 2019. The dataset is collected from Flixable which is a third-party Netflix search engine.\n",
        "\n",
        "In 2018, they released an interesting report which shows that the number of TV shows on Netflix has nearly tripled since 2010. The streaming service’s number of movies has decreased by more than 2,000 titles since 2010, while its number of TV shows has nearly tripled. It will be interesting to explore what all other insights can be obtained from the same dataset.\n",
        "\n",
        "Integrating this dataset with other external datasets such as IMDB ratings, rotten tomatoes can also provide many interesting findings."
      ]
    },
    {
      "cell_type": "markdown",
      "metadata": {
        "id": "tLx5cJO8hzb1"
      },
      "source": [
        "## <b>In this  project, you are required to do </b>\n",
        "1. Exploratory Data Analysis \n",
        "\n",
        "2. Understanding what type content is available in different countries\n",
        "\n",
        "3. Is Netflix has increasingly focusing on TV rather than movies in recent years.\n",
        "4. Clustering similar content by matching text-based features\n",
        "\n"
      ]
    },
    {
      "cell_type": "markdown",
      "metadata": {
        "id": "AzGDqdC4fZ-b"
      },
      "source": [
        "# **Attribute Information**"
      ]
    },
    {
      "cell_type": "markdown",
      "metadata": {
        "id": "jhfLYargscGV"
      },
      "source": [
        "1. show_id : Unique ID for every Movie / Tv Show\n",
        "\n",
        "2. type : Identifier - A Movie or TV Show\n",
        "\n",
        "3. title : Title of the Movie / Tv Show\n",
        "\n",
        "4. director : Director of the Movie\n",
        "\n",
        "5. cast : Actors involved in the movie / show\n",
        "\n",
        "6. country : Country where the movie / show was produced\n",
        "\n",
        "7. date_added : Date it was added on Netflix\n",
        "\n",
        "8. release_year : Actual Releaseyear of the movie / show\n",
        "\n",
        "9. rating : TV Rating of the movie / show\n",
        "\n",
        "10. duration : Total Duration - in minutes or number of seasons\n",
        "\n",
        "11. listed_in : Genere\n",
        "\n",
        "12. description: The Summary description"
      ]
    },
    {
      "cell_type": "markdown",
      "source": [
        "# **Import All Required Libraries for EDA**"
      ],
      "metadata": {
        "id": "AceRKcRop0_K"
      }
    },
    {
      "cell_type": "code",
      "source": [
        "# Importing basic libraries\n",
        "import pandas as pd\n",
        "import numpy as np\n",
        "\n",
        "# Importing libraries for visualization\n",
        "import matplotlib.pyplot as plt\n",
        "%matplotlib inline\n",
        "import seaborn as sns\n",
        "\n",
        "import warnings\n",
        "warnings.filterwarnings(action='ignore')"
      ],
      "metadata": {
        "id": "GOqf1bar4QaJ"
      },
      "execution_count": 1,
      "outputs": []
    },
    {
      "cell_type": "code",
      "source": [
        "from google.colab import drive\n",
        "drive.mount('/content/drive')"
      ],
      "metadata": {
        "colab": {
          "base_uri": "https://localhost:8080/"
        },
        "id": "KUScw22aqQ5W",
        "outputId": "ba7dd4b7-a047-4a9b-d45f-72d2d31b414c"
      },
      "execution_count": 2,
      "outputs": [
        {
          "output_type": "stream",
          "name": "stdout",
          "text": [
            "Drive already mounted at /content/drive; to attempt to forcibly remount, call drive.mount(\"/content/drive\", force_remount=True).\n"
          ]
        }
      ]
    },
    {
      "cell_type": "code",
      "source": [
        "df = pd.read_csv('/content/drive/MyDrive/Capstone Projects/4. Unsupervised Learning/NETFLIX MOVIES AND TV SHOWS CLUSTERING/NETFLIX MOVIES AND TV SHOWS CLUSTERING.csv')"
      ],
      "metadata": {
        "id": "su8-v7YSqUGp"
      },
      "execution_count": 3,
      "outputs": []
    },
    {
      "cell_type": "markdown",
      "source": [
        "## **Get the overview of dataset**"
      ],
      "metadata": {
        "id": "oizRCbLArcvT"
      }
    },
    {
      "cell_type": "code",
      "source": [
        "df.head()"
      ],
      "metadata": {
        "colab": {
          "base_uri": "https://localhost:8080/",
          "height": 424
        },
        "id": "2-VtgmO8rOqg",
        "outputId": "e6eb5946-da13-4f8f-cd77-fed55e4ccfda"
      },
      "execution_count": 4,
      "outputs": [
        {
          "output_type": "execute_result",
          "data": {
            "text/html": [
              "\n",
              "  <div id=\"df-897aead6-3256-458a-b0aa-4ddb7433ff24\">\n",
              "    <div class=\"colab-df-container\">\n",
              "      <div>\n",
              "<style scoped>\n",
              "    .dataframe tbody tr th:only-of-type {\n",
              "        vertical-align: middle;\n",
              "    }\n",
              "\n",
              "    .dataframe tbody tr th {\n",
              "        vertical-align: top;\n",
              "    }\n",
              "\n",
              "    .dataframe thead th {\n",
              "        text-align: right;\n",
              "    }\n",
              "</style>\n",
              "<table border=\"1\" class=\"dataframe\">\n",
              "  <thead>\n",
              "    <tr style=\"text-align: right;\">\n",
              "      <th></th>\n",
              "      <th>show_id</th>\n",
              "      <th>type</th>\n",
              "      <th>title</th>\n",
              "      <th>director</th>\n",
              "      <th>cast</th>\n",
              "      <th>country</th>\n",
              "      <th>date_added</th>\n",
              "      <th>release_year</th>\n",
              "      <th>rating</th>\n",
              "      <th>duration</th>\n",
              "      <th>listed_in</th>\n",
              "      <th>description</th>\n",
              "    </tr>\n",
              "  </thead>\n",
              "  <tbody>\n",
              "    <tr>\n",
              "      <th>0</th>\n",
              "      <td>s1</td>\n",
              "      <td>TV Show</td>\n",
              "      <td>3%</td>\n",
              "      <td>NaN</td>\n",
              "      <td>João Miguel, Bianca Comparato, Michel Gomes, R...</td>\n",
              "      <td>Brazil</td>\n",
              "      <td>August 14, 2020</td>\n",
              "      <td>2020</td>\n",
              "      <td>TV-MA</td>\n",
              "      <td>4 Seasons</td>\n",
              "      <td>International TV Shows, TV Dramas, TV Sci-Fi &amp;...</td>\n",
              "      <td>In a future where the elite inhabit an island ...</td>\n",
              "    </tr>\n",
              "    <tr>\n",
              "      <th>1</th>\n",
              "      <td>s2</td>\n",
              "      <td>Movie</td>\n",
              "      <td>7:19</td>\n",
              "      <td>Jorge Michel Grau</td>\n",
              "      <td>Demián Bichir, Héctor Bonilla, Oscar Serrano, ...</td>\n",
              "      <td>Mexico</td>\n",
              "      <td>December 23, 2016</td>\n",
              "      <td>2016</td>\n",
              "      <td>TV-MA</td>\n",
              "      <td>93 min</td>\n",
              "      <td>Dramas, International Movies</td>\n",
              "      <td>After a devastating earthquake hits Mexico Cit...</td>\n",
              "    </tr>\n",
              "    <tr>\n",
              "      <th>2</th>\n",
              "      <td>s3</td>\n",
              "      <td>Movie</td>\n",
              "      <td>23:59</td>\n",
              "      <td>Gilbert Chan</td>\n",
              "      <td>Tedd Chan, Stella Chung, Henley Hii, Lawrence ...</td>\n",
              "      <td>Singapore</td>\n",
              "      <td>December 20, 2018</td>\n",
              "      <td>2011</td>\n",
              "      <td>R</td>\n",
              "      <td>78 min</td>\n",
              "      <td>Horror Movies, International Movies</td>\n",
              "      <td>When an army recruit is found dead, his fellow...</td>\n",
              "    </tr>\n",
              "    <tr>\n",
              "      <th>3</th>\n",
              "      <td>s4</td>\n",
              "      <td>Movie</td>\n",
              "      <td>9</td>\n",
              "      <td>Shane Acker</td>\n",
              "      <td>Elijah Wood, John C. Reilly, Jennifer Connelly...</td>\n",
              "      <td>United States</td>\n",
              "      <td>November 16, 2017</td>\n",
              "      <td>2009</td>\n",
              "      <td>PG-13</td>\n",
              "      <td>80 min</td>\n",
              "      <td>Action &amp; Adventure, Independent Movies, Sci-Fi...</td>\n",
              "      <td>In a postapocalyptic world, rag-doll robots hi...</td>\n",
              "    </tr>\n",
              "    <tr>\n",
              "      <th>4</th>\n",
              "      <td>s5</td>\n",
              "      <td>Movie</td>\n",
              "      <td>21</td>\n",
              "      <td>Robert Luketic</td>\n",
              "      <td>Jim Sturgess, Kevin Spacey, Kate Bosworth, Aar...</td>\n",
              "      <td>United States</td>\n",
              "      <td>January 1, 2020</td>\n",
              "      <td>2008</td>\n",
              "      <td>PG-13</td>\n",
              "      <td>123 min</td>\n",
              "      <td>Dramas</td>\n",
              "      <td>A brilliant group of students become card-coun...</td>\n",
              "    </tr>\n",
              "  </tbody>\n",
              "</table>\n",
              "</div>\n",
              "      <button class=\"colab-df-convert\" onclick=\"convertToInteractive('df-897aead6-3256-458a-b0aa-4ddb7433ff24')\"\n",
              "              title=\"Convert this dataframe to an interactive table.\"\n",
              "              style=\"display:none;\">\n",
              "        \n",
              "  <svg xmlns=\"http://www.w3.org/2000/svg\" height=\"24px\"viewBox=\"0 0 24 24\"\n",
              "       width=\"24px\">\n",
              "    <path d=\"M0 0h24v24H0V0z\" fill=\"none\"/>\n",
              "    <path d=\"M18.56 5.44l.94 2.06.94-2.06 2.06-.94-2.06-.94-.94-2.06-.94 2.06-2.06.94zm-11 1L8.5 8.5l.94-2.06 2.06-.94-2.06-.94L8.5 2.5l-.94 2.06-2.06.94zm10 10l.94 2.06.94-2.06 2.06-.94-2.06-.94-.94-2.06-.94 2.06-2.06.94z\"/><path d=\"M17.41 7.96l-1.37-1.37c-.4-.4-.92-.59-1.43-.59-.52 0-1.04.2-1.43.59L10.3 9.45l-7.72 7.72c-.78.78-.78 2.05 0 2.83L4 21.41c.39.39.9.59 1.41.59.51 0 1.02-.2 1.41-.59l7.78-7.78 2.81-2.81c.8-.78.8-2.07 0-2.86zM5.41 20L4 18.59l7.72-7.72 1.47 1.35L5.41 20z\"/>\n",
              "  </svg>\n",
              "      </button>\n",
              "      \n",
              "  <style>\n",
              "    .colab-df-container {\n",
              "      display:flex;\n",
              "      flex-wrap:wrap;\n",
              "      gap: 12px;\n",
              "    }\n",
              "\n",
              "    .colab-df-convert {\n",
              "      background-color: #E8F0FE;\n",
              "      border: none;\n",
              "      border-radius: 50%;\n",
              "      cursor: pointer;\n",
              "      display: none;\n",
              "      fill: #1967D2;\n",
              "      height: 32px;\n",
              "      padding: 0 0 0 0;\n",
              "      width: 32px;\n",
              "    }\n",
              "\n",
              "    .colab-df-convert:hover {\n",
              "      background-color: #E2EBFA;\n",
              "      box-shadow: 0px 1px 2px rgba(60, 64, 67, 0.3), 0px 1px 3px 1px rgba(60, 64, 67, 0.15);\n",
              "      fill: #174EA6;\n",
              "    }\n",
              "\n",
              "    [theme=dark] .colab-df-convert {\n",
              "      background-color: #3B4455;\n",
              "      fill: #D2E3FC;\n",
              "    }\n",
              "\n",
              "    [theme=dark] .colab-df-convert:hover {\n",
              "      background-color: #434B5C;\n",
              "      box-shadow: 0px 1px 3px 1px rgba(0, 0, 0, 0.15);\n",
              "      filter: drop-shadow(0px 1px 2px rgba(0, 0, 0, 0.3));\n",
              "      fill: #FFFFFF;\n",
              "    }\n",
              "  </style>\n",
              "\n",
              "      <script>\n",
              "        const buttonEl =\n",
              "          document.querySelector('#df-897aead6-3256-458a-b0aa-4ddb7433ff24 button.colab-df-convert');\n",
              "        buttonEl.style.display =\n",
              "          google.colab.kernel.accessAllowed ? 'block' : 'none';\n",
              "\n",
              "        async function convertToInteractive(key) {\n",
              "          const element = document.querySelector('#df-897aead6-3256-458a-b0aa-4ddb7433ff24');\n",
              "          const dataTable =\n",
              "            await google.colab.kernel.invokeFunction('convertToInteractive',\n",
              "                                                     [key], {});\n",
              "          if (!dataTable) return;\n",
              "\n",
              "          const docLinkHtml = 'Like what you see? Visit the ' +\n",
              "            '<a target=\"_blank\" href=https://colab.research.google.com/notebooks/data_table.ipynb>data table notebook</a>'\n",
              "            + ' to learn more about interactive tables.';\n",
              "          element.innerHTML = '';\n",
              "          dataTable['output_type'] = 'display_data';\n",
              "          await google.colab.output.renderOutput(dataTable, element);\n",
              "          const docLink = document.createElement('div');\n",
              "          docLink.innerHTML = docLinkHtml;\n",
              "          element.appendChild(docLink);\n",
              "        }\n",
              "      </script>\n",
              "    </div>\n",
              "  </div>\n",
              "  "
            ],
            "text/plain": [
              "  show_id     type  title           director  \\\n",
              "0      s1  TV Show     3%                NaN   \n",
              "1      s2    Movie   7:19  Jorge Michel Grau   \n",
              "2      s3    Movie  23:59       Gilbert Chan   \n",
              "3      s4    Movie      9        Shane Acker   \n",
              "4      s5    Movie     21     Robert Luketic   \n",
              "\n",
              "                                                cast        country  \\\n",
              "0  João Miguel, Bianca Comparato, Michel Gomes, R...         Brazil   \n",
              "1  Demián Bichir, Héctor Bonilla, Oscar Serrano, ...         Mexico   \n",
              "2  Tedd Chan, Stella Chung, Henley Hii, Lawrence ...      Singapore   \n",
              "3  Elijah Wood, John C. Reilly, Jennifer Connelly...  United States   \n",
              "4  Jim Sturgess, Kevin Spacey, Kate Bosworth, Aar...  United States   \n",
              "\n",
              "          date_added  release_year rating   duration  \\\n",
              "0    August 14, 2020          2020  TV-MA  4 Seasons   \n",
              "1  December 23, 2016          2016  TV-MA     93 min   \n",
              "2  December 20, 2018          2011      R     78 min   \n",
              "3  November 16, 2017          2009  PG-13     80 min   \n",
              "4    January 1, 2020          2008  PG-13    123 min   \n",
              "\n",
              "                                           listed_in  \\\n",
              "0  International TV Shows, TV Dramas, TV Sci-Fi &...   \n",
              "1                       Dramas, International Movies   \n",
              "2                Horror Movies, International Movies   \n",
              "3  Action & Adventure, Independent Movies, Sci-Fi...   \n",
              "4                                             Dramas   \n",
              "\n",
              "                                         description  \n",
              "0  In a future where the elite inhabit an island ...  \n",
              "1  After a devastating earthquake hits Mexico Cit...  \n",
              "2  When an army recruit is found dead, his fellow...  \n",
              "3  In a postapocalyptic world, rag-doll robots hi...  \n",
              "4  A brilliant group of students become card-coun...  "
            ]
          },
          "metadata": {},
          "execution_count": 4
        }
      ]
    },
    {
      "cell_type": "code",
      "source": [
        "df.info()"
      ],
      "metadata": {
        "colab": {
          "base_uri": "https://localhost:8080/"
        },
        "id": "8It4lFYjrlRX",
        "outputId": "d2b77678-1831-44cb-d44b-e1096b3574bb"
      },
      "execution_count": 5,
      "outputs": [
        {
          "output_type": "stream",
          "name": "stdout",
          "text": [
            "<class 'pandas.core.frame.DataFrame'>\n",
            "RangeIndex: 7787 entries, 0 to 7786\n",
            "Data columns (total 12 columns):\n",
            " #   Column        Non-Null Count  Dtype \n",
            "---  ------        --------------  ----- \n",
            " 0   show_id       7787 non-null   object\n",
            " 1   type          7787 non-null   object\n",
            " 2   title         7787 non-null   object\n",
            " 3   director      5398 non-null   object\n",
            " 4   cast          7069 non-null   object\n",
            " 5   country       7280 non-null   object\n",
            " 6   date_added    7777 non-null   object\n",
            " 7   release_year  7787 non-null   int64 \n",
            " 8   rating        7780 non-null   object\n",
            " 9   duration      7787 non-null   object\n",
            " 10  listed_in     7787 non-null   object\n",
            " 11  description   7787 non-null   object\n",
            "dtypes: int64(1), object(11)\n",
            "memory usage: 730.2+ KB\n"
          ]
        }
      ]
    },
    {
      "cell_type": "code",
      "source": [
        "#looking for any duplicates in dataset\n",
        "\n",
        "df.duplicated().sum()\n",
        "#len(df[df.duplicated()])"
      ],
      "metadata": {
        "colab": {
          "base_uri": "https://localhost:8080/"
        },
        "id": "5oxav99kuxOP",
        "outputId": "4a2878e4-975d-4787-a1d7-56278aac7744"
      },
      "execution_count": 6,
      "outputs": [
        {
          "output_type": "execute_result",
          "data": {
            "text/plain": [
              "0"
            ]
          },
          "metadata": {},
          "execution_count": 6
        }
      ]
    },
    {
      "cell_type": "markdown",
      "source": [
        "\n",
        "\n",
        "*   Dataset have **7787** rows and **12** features.\n",
        "*   **director, cast, rating, country, date_added** has null or missing values\n",
        "*   There are no duplicate values\n",
        "\n"
      ],
      "metadata": {
        "id": "WQ8rZZbzsdjp"
      }
    },
    {
      "cell_type": "markdown",
      "source": [
        "## Looking for null values in dataset"
      ],
      "metadata": {
        "id": "4Efryeh2vBJN"
      }
    },
    {
      "cell_type": "code",
      "source": [
        "#sum of all null values for each features\n",
        "\n",
        "df.isnull().sum()"
      ],
      "metadata": {
        "colab": {
          "base_uri": "https://localhost:8080/"
        },
        "id": "aBTRFTpZsYeB",
        "outputId": "c0628e4b-a667-4b74-a703-64df9c2e55e4"
      },
      "execution_count": 7,
      "outputs": [
        {
          "output_type": "execute_result",
          "data": {
            "text/plain": [
              "show_id            0\n",
              "type               0\n",
              "title              0\n",
              "director        2389\n",
              "cast             718\n",
              "country          507\n",
              "date_added        10\n",
              "release_year       0\n",
              "rating             7\n",
              "duration           0\n",
              "listed_in          0\n",
              "description        0\n",
              "dtype: int64"
            ]
          },
          "metadata": {},
          "execution_count": 7
        }
      ]
    },
    {
      "cell_type": "markdown",
      "source": [
        "* Several features in dataset have null values.\n",
        "* So to handel those null values in better way, lets look for percentage of null values in dataset."
      ],
      "metadata": {
        "id": "QFf_r-QJvPXs"
      }
    },
    {
      "cell_type": "code",
      "source": [
        "# % Of null values\n",
        "\n",
        "(df.isnull().sum()/df.shape[0])*100\n"
      ],
      "metadata": {
        "colab": {
          "base_uri": "https://localhost:8080/"
        },
        "id": "GhfeZ0TovFea",
        "outputId": "d489e4b3-4350-432f-cd72-46245e13f5ec"
      },
      "execution_count": 8,
      "outputs": [
        {
          "output_type": "execute_result",
          "data": {
            "text/plain": [
              "show_id          0.000000\n",
              "type             0.000000\n",
              "title            0.000000\n",
              "director        30.679337\n",
              "cast             9.220496\n",
              "country          6.510851\n",
              "date_added       0.128419\n",
              "release_year     0.000000\n",
              "rating           0.089893\n",
              "duration         0.000000\n",
              "listed_in        0.000000\n",
              "description      0.000000\n",
              "dtype: float64"
            ]
          },
          "metadata": {},
          "execution_count": 8
        }
      ]
    },
    {
      "cell_type": "markdown",
      "source": [
        "* Director feature have more than 30% of null values.\n",
        "  - So droping feature director.\n",
        "---\n",
        "* Country feature have 6.51% of null values.\n",
        "  - Filling null values by mode of feature.\n",
        "---\n",
        "* Cast feature have 9.22% of null values.\n",
        "  - Filling null values by 'missing', only for EDA purpose.\n",
        "---\n",
        "* Rating feature have 0.09% of null values.\n",
        "  - Filling null values by mode of feature.\n",
        "---\n",
        "* Date_added feature have 0.12% of null values.\n",
        "  - Droping rows corresponding to this null values."
      ],
      "metadata": {
        "id": "T4NlkTOCwW1_"
      }
    },
    {
      "cell_type": "code",
      "source": [
        "df.drop('director', axis=1, inplace=True)\n",
        "df['country'].fillna(df['country'].mode()[0], inplace=True)\n",
        "df['rating'].fillna(df['rating'].mode()[0], inplace=True)\n",
        "df.dropna(subset=['date_added'], inplace=True)\n",
        "df['cast'].fillna('missing', inplace=True)"
      ],
      "metadata": {
        "id": "nvvyDBbJvi66"
      },
      "execution_count": 9,
      "outputs": []
    },
    {
      "cell_type": "code",
      "source": [
        "#final check for null value\n",
        "\n",
        "df.isnull().sum()"
      ],
      "metadata": {
        "colab": {
          "base_uri": "https://localhost:8080/"
        },
        "id": "ER29IbOM0y69",
        "outputId": "b5f5fc57-df99-47b2-dc17-a06155e9d93f"
      },
      "execution_count": 10,
      "outputs": [
        {
          "output_type": "execute_result",
          "data": {
            "text/plain": [
              "show_id         0\n",
              "type            0\n",
              "title           0\n",
              "cast            0\n",
              "country         0\n",
              "date_added      0\n",
              "release_year    0\n",
              "rating          0\n",
              "duration        0\n",
              "listed_in       0\n",
              "description     0\n",
              "dtype: int64"
            ]
          },
          "metadata": {},
          "execution_count": 10
        }
      ]
    },
    {
      "cell_type": "markdown",
      "source": [
        "* All the null values handeled and dataset is ready for next challenges."
      ],
      "metadata": {
        "id": "o1_t6DUr1jq_"
      }
    },
    {
      "cell_type": "markdown",
      "source": [
        "## Looking for Data Types and Data Formats"
      ],
      "metadata": {
        "id": "y9yJvEli1q17"
      }
    },
    {
      "cell_type": "code",
      "source": [
        "df.info()"
      ],
      "metadata": {
        "colab": {
          "base_uri": "https://localhost:8080/"
        },
        "id": "1H_ZFc0s0_nW",
        "outputId": "38feaef4-3fc7-47d8-9785-a7cd77120437"
      },
      "execution_count": 11,
      "outputs": [
        {
          "output_type": "stream",
          "name": "stdout",
          "text": [
            "<class 'pandas.core.frame.DataFrame'>\n",
            "Int64Index: 7777 entries, 0 to 7786\n",
            "Data columns (total 11 columns):\n",
            " #   Column        Non-Null Count  Dtype \n",
            "---  ------        --------------  ----- \n",
            " 0   show_id       7777 non-null   object\n",
            " 1   type          7777 non-null   object\n",
            " 2   title         7777 non-null   object\n",
            " 3   cast          7777 non-null   object\n",
            " 4   country       7777 non-null   object\n",
            " 5   date_added    7777 non-null   object\n",
            " 6   release_year  7777 non-null   int64 \n",
            " 7   rating        7777 non-null   object\n",
            " 8   duration      7777 non-null   object\n",
            " 9   listed_in     7777 non-null   object\n",
            " 10  description   7777 non-null   object\n",
            "dtypes: int64(1), object(10)\n",
            "memory usage: 729.1+ KB\n"
          ]
        }
      ]
    },
    {
      "cell_type": "markdown",
      "source": [
        "*    Out of 11 frature only release_year is int64 n all other are object\n",
        "*    * Date_added feature have object datatype.\n",
        "  - Converting to datetime datatype from object datetype.\n",
        "\n",
        "---\n",
        "\n",
        "\n",
        "\n",
        "---\n",
        "\n",
        "\n"
      ],
      "metadata": {
        "id": "qll9sp8nAqAz"
      }
    },
    {
      "cell_type": "code",
      "source": [
        "df['date_added'] = pd.to_datetime(df['date_added'])"
      ],
      "metadata": {
        "id": "UMiasI3X1vRS"
      },
      "execution_count": 12,
      "outputs": []
    },
    {
      "cell_type": "code",
      "source": [
        "df['date_added'].dtype"
      ],
      "metadata": {
        "colab": {
          "base_uri": "https://localhost:8080/"
        },
        "id": "mRny1fyCDdyi",
        "outputId": "e54ce6b2-fb07-4f9e-a695-64adf427d215"
      },
      "execution_count": 13,
      "outputs": [
        {
          "output_type": "execute_result",
          "data": {
            "text/plain": [
              "dtype('<M8[ns]')"
            ]
          },
          "metadata": {},
          "execution_count": 13
        }
      ]
    },
    {
      "cell_type": "markdown",
      "source": [
        "#### Duration feature have object datatype"
      ],
      "metadata": {
        "id": "6vxo8y5RDxGI"
      }
    },
    {
      "cell_type": "code",
      "source": [
        "# Converting to int datatype from object datatype.\n",
        "\n",
        "df['duration']"
      ],
      "metadata": {
        "colab": {
          "base_uri": "https://localhost:8080/"
        },
        "id": "cQ0lAu5HDg_k",
        "outputId": "0e5f4508-07aa-41fd-8e5b-05cd3fd220c1"
      },
      "execution_count": 14,
      "outputs": [
        {
          "output_type": "execute_result",
          "data": {
            "text/plain": [
              "0       4 Seasons\n",
              "1          93 min\n",
              "2          78 min\n",
              "3          80 min\n",
              "4         123 min\n",
              "          ...    \n",
              "7782       99 min\n",
              "7783      111 min\n",
              "7784       44 min\n",
              "7785     1 Season\n",
              "7786       90 min\n",
              "Name: duration, Length: 7777, dtype: object"
            ]
          },
          "metadata": {},
          "execution_count": 14
        }
      ]
    },
    {
      "cell_type": "markdown",
      "source": [
        "* Duration are in combination of int values and string.\n",
        "* Removing string part so as to get int datatype."
      ],
      "metadata": {
        "id": "2goOVVlZE8Vu"
      }
    },
    {
      "cell_type": "code",
      "source": [
        "#spliting each values by space and selecting int part at zeroth index\n",
        "\n",
        "df['duration'] = df['duration'].apply(lambda x : x.split(\" \")[0])"
      ],
      "metadata": {
        "id": "09SvEYWyD8No"
      },
      "execution_count": 15,
      "outputs": []
    },
    {
      "cell_type": "code",
      "source": [
        "#check for updated duration values\n",
        "df['duration']"
      ],
      "metadata": {
        "colab": {
          "base_uri": "https://localhost:8080/"
        },
        "id": "oj-pHromFPzW",
        "outputId": "ad975f0a-4133-44cb-90d3-25f371eef138"
      },
      "execution_count": 16,
      "outputs": [
        {
          "output_type": "execute_result",
          "data": {
            "text/plain": [
              "0         4\n",
              "1        93\n",
              "2        78\n",
              "3        80\n",
              "4       123\n",
              "       ... \n",
              "7782     99\n",
              "7783    111\n",
              "7784     44\n",
              "7785      1\n",
              "7786     90\n",
              "Name: duration, Length: 7777, dtype: object"
            ]
          },
          "metadata": {},
          "execution_count": 16
        }
      ]
    },
    {
      "cell_type": "code",
      "source": [
        "df.info()"
      ],
      "metadata": {
        "colab": {
          "base_uri": "https://localhost:8080/"
        },
        "id": "YDOIlb-TFSyL",
        "outputId": "4fd22e7f-5c82-4b3f-b835-3ebed83979be"
      },
      "execution_count": 17,
      "outputs": [
        {
          "output_type": "stream",
          "name": "stdout",
          "text": [
            "<class 'pandas.core.frame.DataFrame'>\n",
            "Int64Index: 7777 entries, 0 to 7786\n",
            "Data columns (total 11 columns):\n",
            " #   Column        Non-Null Count  Dtype         \n",
            "---  ------        --------------  -----         \n",
            " 0   show_id       7777 non-null   object        \n",
            " 1   type          7777 non-null   object        \n",
            " 2   title         7777 non-null   object        \n",
            " 3   cast          7777 non-null   object        \n",
            " 4   country       7777 non-null   object        \n",
            " 5   date_added    7777 non-null   datetime64[ns]\n",
            " 6   release_year  7777 non-null   int64         \n",
            " 7   rating        7777 non-null   object        \n",
            " 8   duration      7777 non-null   object        \n",
            " 9   listed_in     7777 non-null   object        \n",
            " 10  description   7777 non-null   object        \n",
            "dtypes: datetime64[ns](1), int64(1), object(9)\n",
            "memory usage: 729.1+ KB\n"
          ]
        }
      ]
    },
    {
      "cell_type": "code",
      "source": [
        "# setting limits for display of rows and columns for better understanding\n",
        "pd.set_option('display.max_rows', 200)\n",
        "pd.set_option('display.max_columns', 200)"
      ],
      "metadata": {
        "id": "bvh_eDN6FrBn"
      },
      "execution_count": 18,
      "outputs": []
    },
    {
      "cell_type": "markdown",
      "source": [
        "## Creating some new features from existing features to understand data better."
      ],
      "metadata": {
        "id": "cvuqe4hyGN9Q"
      }
    },
    {
      "cell_type": "code",
      "source": [
        "# add new features from date feature\n",
        "df['year_added'] = df['date_added'].dt.year\n",
        "df['month_added'] = df['date_added'].dt.month\n",
        "df['day_added'] = df['date_added'].dt.day"
      ],
      "metadata": {
        "id": "SPm_lyzXGKOa"
      },
      "execution_count": 19,
      "outputs": []
    },
    {
      "cell_type": "code",
      "source": [
        "#Check for final dataset shape\n",
        "df.shape"
      ],
      "metadata": {
        "colab": {
          "base_uri": "https://localhost:8080/"
        },
        "id": "t0DJqEOUGQCe",
        "outputId": "3ba3a0bd-faa8-40af-c6c6-052df7932e52"
      },
      "execution_count": 20,
      "outputs": [
        {
          "output_type": "execute_result",
          "data": {
            "text/plain": [
              "(7777, 14)"
            ]
          },
          "metadata": {},
          "execution_count": 20
        }
      ]
    },
    {
      "cell_type": "markdown",
      "source": [
        "# **EDA**"
      ],
      "metadata": {
        "id": "R3lTAv4XGWem"
      }
    },
    {
      "cell_type": "markdown",
      "source": [
        "## **Movies Vs TV Shows**"
      ],
      "metadata": {
        "id": "lyh22nAhyE_6"
      }
    },
    {
      "cell_type": "markdown",
      "source": [
        "### Lets look at dominance between Movies and TV Shows."
      ],
      "metadata": {
        "id": "fP3WtUx5yOAQ"
      }
    },
    {
      "cell_type": "code",
      "source": [
        "# Pie chart showing percentage of toal movies and TV shows.\n",
        "# Choose this facecolor so as to give style of netflix\n",
        "\n",
        "fig, ax = plt.subplots(figsize=(7,7),facecolor=\"#bfbfbf\")\n",
        "ax.patch.set_facecolor('#bfbfbf')\n",
        "explode = (0, 0.1)\n",
        "ax.pie(df['type'].value_counts(), explode=explode, autopct='%.2f%%', labels= ['Movie', 'TV Show'],shadow=True,\n",
        "       startangle=90,textprops={'color':\"black\", 'fontsize': 20}, colors =['#333399','#ffff00'])\n",
        "plt.show()"
      ],
      "metadata": {
        "id": "YTgAIgSoGSFA",
        "colab": {
          "base_uri": "https://localhost:8080/",
          "height": 411
        },
        "outputId": "60bdb2a2-2226-461c-9bf6-62dc19a969ff"
      },
      "execution_count": 27,
      "outputs": [
        {
          "output_type": "display_data",
          "data": {
            "image/png": "[encoded data removed]",
            "text/plain": [
              "<Figure size 504x504 with 1 Axes>"
            ]
          },
          "metadata": {}
        }
      ]
    },
    {
      "cell_type": "markdown",
      "source": [
        "* Movies uploaded on Netflix are more than twice the TV Shows uploaded.\n",
        "* This dose not implies that movies are more indulging that of TV Shows.\n",
        "* Beacuase TV shows may have several seasons which consits of number of episodes.\n",
        "* Duration of TV shows are much more that of movies."
      ],
      "metadata": {
        "id": "Tn-2Egfw0evU"
      }
    },
    {
      "cell_type": "markdown",
      "source": [
        "## **Number of Movies and TV Shows added on netflix.**"
      ],
      "metadata": {
        "id": "XYLFhhhX0mei"
      }
    },
    {
      "cell_type": "markdown",
      "source": [
        "### On Year basis"
      ],
      "metadata": {
        "id": "kjfMSFQF0tk9"
      }
    },
    {
      "cell_type": "code",
      "source": [
        "fig, ax = plt.subplots(figsize=(15,6),facecolor=\"#999999\")\n",
        "ax.patch.set_facecolor('#999999')\n",
        "sns.countplot(x='year_added', hue='type',lw=5, color='green', data=df, ax=ax)\n",
        "ax.tick_params(axis='x', colors='#ffff00',labelsize=15) \n",
        "ax.tick_params(axis='y', colors='#ffff00',labelsize=15)\n",
        "ax.set_xlabel(\"Years\", color='#333399', fontsize=20)\n",
        "ax.set_ylabel(\"Counts\",  color='#333399', fontsize=20)\n",
        "ax.set_title(\"Yearwise Movies And TV Shows\", color='#333399', fontsize=30)\n",
        "ax.spines['right'].set_visible(False)\n",
        "ax.spines['top'].set_visible(False)\n",
        "ax.spines['left'].set_visible(True)\n",
        "plt.legend(loc='upper left')"
      ],
      "metadata": {
        "colab": {
          "base_uri": "https://localhost:8080/",
          "height": 448
        },
        "id": "Mb5n3mK4y-Xs",
        "outputId": "d1ee1925-edc1-4691-fbfe-b348f41952cf"
      },
      "execution_count": 41,
      "outputs": [
        {
          "output_type": "execute_result",
          "data": {
            "text/plain": [
              "<matplotlib.legend.Legend at 0x7f470c46b2d0>"
            ]
          },
          "metadata": {},
          "execution_count": 41
        },
        {
          "output_type": "display_data",
          "data": {
            "image/png": "[encoded data removed]",
            "text/plain": [
              "<Figure size 1080x432 with 1 Axes>"
            ]
          },
          "metadata": {}
        }
      ]
    },
    {
      "cell_type": "markdown",
      "source": [
        "* TV shows are incresing continuosly.\n",
        "* Movies were incresing continuosly but after 2019 there is fall."
      ],
      "metadata": {
        "id": "lriHl7do2d2w"
      }
    },
    {
      "cell_type": "markdown",
      "source": [
        "### On Month Basis"
      ],
      "metadata": {
        "id": "n9mrNXzN2gqK"
      }
    },
    {
      "cell_type": "code",
      "source": [
        "fig, ax = plt.subplots(figsize=(15,6),facecolor=\"#999999\")\n",
        "ax.patch.set_facecolor('#999999')\n",
        "sns.countplot(x='month_added', hue='type',lw=5, color='green', data=df, ax=ax)\n",
        "ax.tick_params(axis='x', colors='#ffff00',labelsize=15) \n",
        "ax.tick_params(axis='y', colors='#ffff00',labelsize=15)\n",
        "ax.set_xlabel(\"Months\", color='#333399', fontsize=20)\n",
        "ax.set_ylabel(\"Counts\",  color='#333399', fontsize=20)\n",
        "ax.set_title(\"Monthwise Movies & TV Shows\", color='#333399', fontsize=30)\n",
        "ax.spines['right'].set_visible(False)\n",
        "ax.spines['top'].set_visible(False)\n",
        "ax.spines['left'].set_visible(True)"
      ],
      "metadata": {
        "colab": {
          "base_uri": "https://localhost:8080/",
          "height": 431
        },
        "id": "S88q33y-1Bfl",
        "outputId": "0c0329cf-593d-4a48-af94-a8faf4add516"
      },
      "execution_count": 42,
      "outputs": [
        {
          "output_type": "display_data",
          "data": {
            "image/png": "[encoded data removed]",
            "text/plain": [
              "<Figure size 1080x432 with 1 Axes>"
            ]
          },
          "metadata": {}
        }
      ]
    },
    {
      "cell_type": "markdown",
      "source": [
        "* From Octomber to January, maximum number of movies and TV shows were added.\n",
        "* Possible reason for that is, during this period of time events such as Christmas, New Year and several holidays takes place."
      ],
      "metadata": {
        "id": "cZTNSMb23tig"
      }
    },
    {
      "cell_type": "markdown",
      "source": [
        "### On Day Basis"
      ],
      "metadata": {
        "id": "q2x5mmfl32zR"
      }
    },
    {
      "cell_type": "code",
      "source": [
        "fig, ax = plt.subplots(figsize=(15,6),facecolor=\"#999999\")\n",
        "ax.patch.set_facecolor('#999999')\n",
        "sns.countplot(x='day_added', hue='type',lw=5, color='green', data=df, ax=ax)\n",
        "ax.tick_params(axis='x', colors='#ffff00',labelsize=15) \n",
        "ax.tick_params(axis='y', colors='#ffff00',labelsize=15)\n",
        "ax.set_xlabel(\"Days\", color='#333399', fontsize=20)\n",
        "ax.set_ylabel(\"Counts\",  color='#333399', fontsize=20)\n",
        "ax.set_title(\"Daywise Movies & TV Shows\", color='#333399', fontsize=30)\n",
        "ax.spines['right'].set_visible(False)\n",
        "ax.spines['top'].set_visible(False)\n",
        "ax.spines['left'].set_visible(True)"
      ],
      "metadata": {
        "colab": {
          "base_uri": "https://localhost:8080/",
          "height": 431
        },
        "id": "m1OoVkcj2rTl",
        "outputId": "7c4802ee-4bd5-4d79-dec6-a2738de4c072"
      },
      "execution_count": 46,
      "outputs": [
        {
          "output_type": "display_data",
          "data": {
            "image/png": "[encoded data removed]",
            "text/plain": [
              "<Figure size 1080x432 with 1 Axes>"
            ]
          },
          "metadata": {}
        }
      ]
    },
    {
      "cell_type": "markdown",
      "source": [
        "* Maximum number of movies and TV shows were either on start of the month or mid of the month. "
      ],
      "metadata": {
        "id": "0Jdvtwsp4tO9"
      }
    },
    {
      "cell_type": "markdown",
      "source": [
        "## Wordwide Presence of Netflix\n",
        "\n",
        "* Popularity Netflix is all over the world.\n",
        "* Lets look for its highest presence over countries."
      ],
      "metadata": {
        "id": "fEs_R5QB4vz_"
      }
    },
    {
      "cell_type": "markdown",
      "source": [
        "### Top 10 Countries having maximum Movies and TV Shows"
      ],
      "metadata": {
        "id": "sF3uYlzI42cI"
      }
    },
    {
      "cell_type": "code",
      "source": [
        "fig, ax = plt.subplots(figsize=(12,5),facecolor=\"#999999\")\n",
        "ax.patch.set_facecolor('#999999')\n",
        "(df['country'].value_counts().sort_values()/df.shape[0]*100)[-10:].plot(kind='barh', ax=ax,color ='green',alpha=0.8)\n",
        "ax.tick_params(axis= 'x', colors='#ffff00',labelsize=15) \n",
        "ax.tick_params(axis='y', colors='#ffff00',labelsize=15)\n",
        "ax.set_xlabel(\"Percentage\", color='#333399', fontsize=20)\n",
        "ax.set_title(\"Top 10 Countries\", color='#333399', fontsize=30)\n",
        "ax.spines['right'].set_visible(False)\n",
        "ax.spines['top'].set_visible(False)\n",
        "ax.spines['left'].set_visible(False)"
      ],
      "metadata": {
        "colab": {
          "base_uri": "https://localhost:8080/",
          "height": 377
        },
        "id": "CWIhmD9z35By",
        "outputId": "318cdf9a-0d60-4b28-a663-f0780bbc3d02"
      },
      "execution_count": 47,
      "outputs": [
        {
          "output_type": "display_data",
          "data": {
            "image/png": "[encoded data removed]",
            "text/plain": [
              "<Figure size 864x360 with 1 Axes>"
            ]
          },
          "metadata": {}
        }
      ]
    },
    {
      "cell_type": "markdown",
      "source": [
        "* Unites State tops the in list of maximum number of movies and TV shows.\n",
        "* Followed by India, UK and Japan."
      ],
      "metadata": {
        "id": "_-SzdePd5TjA"
      }
    },
    {
      "cell_type": "markdown",
      "source": [
        "## **Ratings on Movies and TV Shows**"
      ],
      "metadata": {
        "id": "lQ50HPoE5X-a"
      }
    },
    {
      "cell_type": "markdown",
      "source": [
        "**For Movies:**\n",
        "* G: Kids\n",
        "* PG: Older Kids (7+)\n",
        "* PG-13: Teens (13+)\n",
        "* NC-17, NR, R, Unrated: Adults (18+)\n",
        "\n",
        "\n",
        "**For TV Shows:**\n",
        "* TV-G, TV-Y: Kids\n",
        "* TV-Y7/FV/PG: Older Kids (7+)\n",
        "* TV-14: Young Adults (16+)\n",
        "* TV-MA: Adults (18+)\n"
      ],
      "metadata": {
        "id": "eYoUiQDi5ccT"
      }
    },
    {
      "cell_type": "code",
      "source": [
        "fig, ax = plt.subplots(figsize=(15,6),facecolor=\"#999999\")\n",
        "ax.patch.set_facecolor('#999999')\n",
        "sns.countplot(x='rating', hue='type',lw=5, color='green', data=df, ax=ax)\n",
        "ax.tick_params(axis='x', colors='#ffff00',labelsize=15) \n",
        "ax.tick_params(axis='y', colors='#ffff00',labelsize=15)\n",
        "ax.set_xlabel(\"Ratings\", color='#333399', fontsize=20)\n",
        "ax.set_ylabel(\"Counts\",  color='#333399', fontsize=20)\n",
        "ax.set_title(\"Ratings: Movies & TV Shows\", color='#333399', fontsize=30)\n",
        "plt.legend(loc='upper right')\n",
        "ax.spines['right'].set_visible(False)\n",
        "ax.spines['top'].set_visible(False)\n",
        "ax.spines['left'].set_visible(True)"
      ],
      "metadata": {
        "colab": {
          "base_uri": "https://localhost:8080/",
          "height": 431
        },
        "id": "rj3f62Rk5F7E",
        "outputId": "24c78aa5-7c34-4499-ab6f-e5409f523f87"
      },
      "execution_count": 49,
      "outputs": [
        {
          "output_type": "display_data",
          "data": {
            "image/png": "[encoded data removed]",
            "text/plain": [
              "<Figure size 1080x432 with 1 Axes>"
            ]
          },
          "metadata": {}
        }
      ]
    },
    {
      "cell_type": "markdown",
      "source": [
        "* Maximum of the movies as well as TV shows are for matures only.\n"
      ],
      "metadata": {
        "id": "-pkO3xDx6orT"
      }
    },
    {
      "cell_type": "markdown",
      "source": [
        "## Top 10 Cast Involved either in Movies or TV Shows"
      ],
      "metadata": {
        "id": "_g8fbI3g6rW7"
      }
    },
    {
      "cell_type": "code",
      "source": [
        "# just take look at values of cast\n",
        "df['cast'][1]"
      ],
      "metadata": {
        "colab": {
          "base_uri": "https://localhost:8080/",
          "height": 35
        },
        "id": "H4iKwGNx6VoL",
        "outputId": "e5457f6b-4f98-4f80-b48b-b04fec7aec6c"
      },
      "execution_count": 50,
      "outputs": [
        {
          "output_type": "execute_result",
          "data": {
            "application/vnd.google.colaboratory.intrinsic+json": {
              "type": "string"
            },
            "text/plain": [
              "'Demián Bichir, Héctor Bonilla, Oscar Serrano, Azalia Ortiz, Octavio Michel, Carmen Beato'"
            ]
          },
          "metadata": {},
          "execution_count": 50
        }
      ]
    },
    {
      "cell_type": "code",
      "source": [
        "# list of cast by making split by comma\n",
        "\n",
        "df['cast'] = df['cast'].apply(lambda x :  x.split(', '))"
      ],
      "metadata": {
        "id": "Fsva3Ggp6vbW"
      },
      "execution_count": 51,
      "outputs": []
    },
    {
      "cell_type": "code",
      "source": [
        "# making list which contains all the entries from rows\n",
        "\n",
        "cast_list = []\n",
        "for i in df['cast']:\n",
        "  cast_list += i\n",
        "\n",
        "# unique cast    \n",
        "unique_cast = set(cast_list)\n",
        "\n",
        "# create dictionary to save cast and their counts\n",
        "cast_dict = dict((i, cast_list.count(i)) for i in unique_cast)\n",
        "\n",
        "# create dataframe from above dictionary\n",
        "cast_df = pd.DataFrame.from_dict(cast_dict, orient='index',\n",
        "                       columns=['Counts']).sort_values('Counts',ascending=True).reset_index().rename(columns = {'index' : 'cast'})"
      ],
      "metadata": {
        "id": "xPaIwmTh61X8"
      },
      "execution_count": 52,
      "outputs": []
    },
    {
      "cell_type": "code",
      "source": [
        "# plot of top 10 cast involved either movies or tv shows\n",
        "\n",
        "fig, ax = plt.subplots(figsize=(10,5),facecolor=\"#999999\")\n",
        "ax.patch.set_facecolor('#999999')\n",
        "ax.barh(y=cast_df['cast'][-11:-1], width = cast_df['Counts'][-11:-1], height=0.4, color = 'green',alpha=0.8)\n",
        "ax.tick_params(axis= 'x', colors='#ffff00',labelsize=15) \n",
        "ax.tick_params(axis='y', colors='#ffff00',labelsize=15)\n",
        "ax.set_xlabel(\"Number of movies\", color='#333399', fontsize=20)\n",
        "ax.set_title(\"Top 10 Cast\", color='#333399', fontsize=30)\n",
        "ax.spines['right'].set_visible(False)\n",
        "ax.spines['top'].set_visible(False)\n",
        "ax.spines['left'].set_visible(True)"
      ],
      "metadata": {
        "colab": {
          "base_uri": "https://localhost:8080/",
          "height": 377
        },
        "id": "oyMOMjhr7Avj",
        "outputId": "904c7a2d-3cb5-4839-904c-f5f83fc01546"
      },
      "execution_count": 53,
      "outputs": [
        {
          "output_type": "display_data",
          "data": {
            "image/png": "[encoded data removed]",
            "text/plain": [
              "<Figure size 720x360 with 1 Axes>"
            ]
          },
          "metadata": {}
        }
      ]
    },
    {
      "cell_type": "markdown",
      "source": [
        "## Seperate Dataframes for Movies and TV Shows"
      ],
      "metadata": {
        "id": "3XqgV5767lHC"
      }
    },
    {
      "cell_type": "code",
      "source": [
        "# All the movies and TV shows in different dataframe\n",
        "\n",
        "movies_df = df[df['type']=='Movie']\n",
        "tv_df = df[df['type']=='TV Show']"
      ],
      "metadata": {
        "id": "vtjEc8Vj7bak"
      },
      "execution_count": 54,
      "outputs": []
    },
    {
      "cell_type": "markdown",
      "source": [
        "### Running Time of Movies"
      ],
      "metadata": {
        "id": "77gV2fg97sw6"
      }
    },
    {
      "cell_type": "code",
      "source": [
        "fig, ax = plt.subplots(figsize=(20,7),facecolor=\"#999999\")\n",
        "ax.patch.set_facecolor('#999999')\n",
        "sns.distplot(movies_df['duration'], hist=True, bins=60,color='green', ax=ax)\n",
        "ax.tick_params(axis= 'x', colors='#ffff00',labelsize=15) \n",
        "ax.tick_params(axis='y', colors='#ffff00',labelsize=15)\n",
        "ax.set_xlabel(\"Duration\", color='#333399', fontsize=20)\n",
        "ax.set_ylabel(\"Density\", color='#333399', fontsize=20)\n",
        "ax.set_title(\"Running Time of Movies\", color='#333399', fontsize=30)\n",
        "ax.spines['right'].set_visible(False)\n",
        "ax.spines['top'].set_visible(False)\n",
        "ax.spines['left'].set_visible(True)"
      ],
      "metadata": {
        "colab": {
          "base_uri": "https://localhost:8080/",
          "height": 485
        },
        "id": "vfpF8O3G7qYj",
        "outputId": "0b28f76b-7613-4e2d-bbb7-810eba7d9d7c"
      },
      "execution_count": 55,
      "outputs": [
        {
          "output_type": "display_data",
          "data": {
            "image/png": "[encoded data removed]",
            "text/plain": [
              "<Figure size 1440x504 with 1 Axes>"
            ]
          },
          "metadata": {}
        }
      ]
    },
    {
      "cell_type": "markdown",
      "source": [
        "### Seasons of TV Shows"
      ],
      "metadata": {
        "id": "lb-qtqAf8Afz"
      }
    },
    {
      "cell_type": "code",
      "source": [
        "fig, ax = plt.subplots(figsize=(12,6),facecolor=\"#999999\")\n",
        "ax.patch.set_facecolor('#999999')\n",
        "\n",
        "(tv_df['duration'].value_counts().sort_values()/tv_df.shape[0]*100)[-10:].plot(kind='barh', ax=ax,color ='green',alpha=0.5)\n",
        "ax.tick_params(axis='x', colors='#ffff00',labelsize=15) \n",
        "ax.tick_params(axis='y', colors='#ffff00',labelsize=15)\n",
        "ax.set_xlabel(\"Percentage\", color='#333399', fontsize=20)\n",
        "ax.set_ylabel(\"Number of Seasons\", color='#333399', fontsize=20)\n",
        "ax.set_title(\"TV Shows Seasons\", color='#333399', fontsize=30)\n",
        "ax.spines['right'].set_visible(False)\n",
        "ax.spines['top'].set_visible(False)\n",
        "ax.spines['left'].set_visible(True)\n"
      ],
      "metadata": {
        "colab": {
          "base_uri": "https://localhost:8080/",
          "height": 431
        },
        "id": "weRZPQcr74KE",
        "outputId": "3f67f936-5621-483f-c587-57d2a0c54759"
      },
      "execution_count": 58,
      "outputs": [
        {
          "output_type": "display_data",
          "data": {
            "image/png": "[encoded data removed]",
            "text/plain": [
              "<Figure size 864x432 with 1 Axes>"
            ]
          },
          "metadata": {}
        }
      ]
    },
    {
      "cell_type": "markdown",
      "source": [
        "* Almost 68% of TV shows consist of single season only."
      ],
      "metadata": {
        "id": "LYjjGzLdD_EV"
      }
    },
    {
      "cell_type": "markdown",
      "source": [
        "## **Top Genres in Movies & TV Shows**"
      ],
      "metadata": {
        "id": "u1DW9COnEES4"
      }
    },
    {
      "cell_type": "code",
      "source": [
        "# list of genres by making split by comma\n",
        "\n",
        "movies_df['listed_in'] = movies_df['listed_in'].apply(lambda x :  x.split(','))\n",
        "tv_df['listed_in'] = tv_df['listed_in'].apply(lambda x :  x.split(','))"
      ],
      "metadata": {
        "id": "qwRKFwz2DvYK"
      },
      "execution_count": 59,
      "outputs": []
    },
    {
      "cell_type": "code",
      "source": [
        "# creating list having all the genres in dataset\n",
        "movie_genre_list = []\n",
        "for i in movies_df['listed_in']:\n",
        "  movie_genre_list += i\n",
        "\n",
        "tv_genre_list = []\n",
        "for i in tv_df['listed_in']:\n",
        "  tv_genre_list += i"
      ],
      "metadata": {
        "id": "gEWBeVZVEsK4"
      },
      "execution_count": 60,
      "outputs": []
    },
    {
      "cell_type": "code",
      "source": [
        "# to make dictionary out of list of genres\n",
        "from collections import Counter"
      ],
      "metadata": {
        "id": "8kCeYkPZEudn"
      },
      "execution_count": 61,
      "outputs": []
    },
    {
      "cell_type": "code",
      "source": [
        "# creating dataframe for genres in movies and TV shows\n",
        "movie_genre_list = Counter(movie_genre_list)\n",
        "tv_genre_list = Counter(tv_genre_list)\n",
        "\n",
        "movie_genre_df = pd.DataFrame(movie_genre_list.items())\n",
        "TV_genre_df = pd.DataFrame(tv_genre_list.items())\n",
        "\n",
        "movie_genre_df.columns = ['genre','movie_count']\n",
        "TV_genre_df.columns = ['genre','tv_count']\n",
        "\n",
        "movie_genre_df = movie_genre_df.sort_values(by= 'movie_count').reset_index(drop=True)\n",
        "TV_genre_df = TV_genre_df.sort_values(by= 'tv_count').reset_index(drop=True)"
      ],
      "metadata": {
        "id": "pAw7r5xqExLn"
      },
      "execution_count": 62,
      "outputs": []
    },
    {
      "cell_type": "code",
      "source": [
        "# first look of movie genres dataframe\n",
        "movie_genre_df"
      ],
      "metadata": {
        "colab": {
          "base_uri": "https://localhost:8080/",
          "height": 1000
        },
        "id": "o-TPR_tkEyug",
        "outputId": "e5b49c76-cfbd-4dd0-e3e8-fbd2bb1db821"
      },
      "execution_count": 63,
      "outputs": [
        {
          "output_type": "execute_result",
          "data": {
            "text/html": [
              "\n",
              "  <div id=\"df-f8273d62-e88b-4347-ad8f-a6bba9e6ece6\">\n",
              "    <div class=\"colab-df-container\">\n",
              "      <div>\n",
              "<style scoped>\n",
              "    .dataframe tbody tr th:only-of-type {\n",
              "        vertical-align: middle;\n",
              "    }\n",
              "\n",
              "    .dataframe tbody tr th {\n",
              "        vertical-align: top;\n",
              "    }\n",
              "\n",
              "    .dataframe thead th {\n",
              "        text-align: right;\n",
              "    }\n",
              "</style>\n",
              "<table border=\"1\" class=\"dataframe\">\n",
              "  <thead>\n",
              "    <tr style=\"text-align: right;\">\n",
              "      <th></th>\n",
              "      <th>genre</th>\n",
              "      <th>movie_count</th>\n",
              "    </tr>\n",
              "  </thead>\n",
              "  <tbody>\n",
              "    <tr>\n",
              "      <th>0</th>\n",
              "      <td>LGBTQ Movies</td>\n",
              "      <td>1</td>\n",
              "    </tr>\n",
              "    <tr>\n",
              "      <th>1</th>\n",
              "      <td>Sports Movies</td>\n",
              "      <td>1</td>\n",
              "    </tr>\n",
              "    <tr>\n",
              "      <th>2</th>\n",
              "      <td>Romantic Movies</td>\n",
              "      <td>3</td>\n",
              "    </tr>\n",
              "    <tr>\n",
              "      <th>3</th>\n",
              "      <td>Stand-Up Comedy</td>\n",
              "      <td>8</td>\n",
              "    </tr>\n",
              "    <tr>\n",
              "      <th>4</th>\n",
              "      <td>Sci-Fi &amp; Fantasy</td>\n",
              "      <td>11</td>\n",
              "    </tr>\n",
              "    <tr>\n",
              "      <th>5</th>\n",
              "      <td>Cult Movies</td>\n",
              "      <td>12</td>\n",
              "    </tr>\n",
              "    <tr>\n",
              "      <th>6</th>\n",
              "      <td>Music &amp; Musicals</td>\n",
              "      <td>17</td>\n",
              "    </tr>\n",
              "    <tr>\n",
              "      <th>7</th>\n",
              "      <td>Anime Features</td>\n",
              "      <td>19</td>\n",
              "    </tr>\n",
              "    <tr>\n",
              "      <th>8</th>\n",
              "      <td>Independent Movies</td>\n",
              "      <td>20</td>\n",
              "    </tr>\n",
              "    <tr>\n",
              "      <th>9</th>\n",
              "      <td>Classic Movies</td>\n",
              "      <td>26</td>\n",
              "    </tr>\n",
              "    <tr>\n",
              "      <th>10</th>\n",
              "      <td>Children &amp; Family Movies</td>\n",
              "      <td>30</td>\n",
              "    </tr>\n",
              "    <tr>\n",
              "      <th>11</th>\n",
              "      <td>Documentaries</td>\n",
              "      <td>35</td>\n",
              "    </tr>\n",
              "    <tr>\n",
              "      <th>12</th>\n",
              "      <td>Anime Features</td>\n",
              "      <td>38</td>\n",
              "    </tr>\n",
              "    <tr>\n",
              "      <th>13</th>\n",
              "      <td>Cult Movies</td>\n",
              "      <td>47</td>\n",
              "    </tr>\n",
              "    <tr>\n",
              "      <th>14</th>\n",
              "      <td>Thrillers</td>\n",
              "      <td>49</td>\n",
              "    </tr>\n",
              "    <tr>\n",
              "      <th>15</th>\n",
              "      <td>Movies</td>\n",
              "      <td>56</td>\n",
              "    </tr>\n",
              "    <tr>\n",
              "      <th>16</th>\n",
              "      <td>Faith &amp; Spirituality</td>\n",
              "      <td>57</td>\n",
              "    </tr>\n",
              "    <tr>\n",
              "      <th>17</th>\n",
              "      <td>Horror Movies</td>\n",
              "      <td>68</td>\n",
              "    </tr>\n",
              "    <tr>\n",
              "      <th>18</th>\n",
              "      <td>Classic Movies</td>\n",
              "      <td>77</td>\n",
              "    </tr>\n",
              "    <tr>\n",
              "      <th>19</th>\n",
              "      <td>LGBTQ Movies</td>\n",
              "      <td>89</td>\n",
              "    </tr>\n",
              "    <tr>\n",
              "      <th>20</th>\n",
              "      <td>International Movies</td>\n",
              "      <td>114</td>\n",
              "    </tr>\n",
              "    <tr>\n",
              "      <th>21</th>\n",
              "      <td>Sports Movies</td>\n",
              "      <td>195</td>\n",
              "    </tr>\n",
              "    <tr>\n",
              "      <th>22</th>\n",
              "      <td>Sci-Fi &amp; Fantasy</td>\n",
              "      <td>207</td>\n",
              "    </tr>\n",
              "    <tr>\n",
              "      <th>23</th>\n",
              "      <td>Horror Movies</td>\n",
              "      <td>244</td>\n",
              "    </tr>\n",
              "    <tr>\n",
              "      <th>24</th>\n",
              "      <td>Music &amp; Musicals</td>\n",
              "      <td>304</td>\n",
              "    </tr>\n",
              "    <tr>\n",
              "      <th>25</th>\n",
              "      <td>Stand-Up Comedy</td>\n",
              "      <td>321</td>\n",
              "    </tr>\n",
              "    <tr>\n",
              "      <th>26</th>\n",
              "      <td>Comedies</td>\n",
              "      <td>397</td>\n",
              "    </tr>\n",
              "    <tr>\n",
              "      <th>27</th>\n",
              "      <td>Thrillers</td>\n",
              "      <td>442</td>\n",
              "    </tr>\n",
              "    <tr>\n",
              "      <th>28</th>\n",
              "      <td>Children &amp; Family Movies</td>\n",
              "      <td>502</td>\n",
              "    </tr>\n",
              "    <tr>\n",
              "      <th>29</th>\n",
              "      <td>Romantic Movies</td>\n",
              "      <td>528</td>\n",
              "    </tr>\n",
              "    <tr>\n",
              "      <th>30</th>\n",
              "      <td>Independent Movies</td>\n",
              "      <td>653</td>\n",
              "    </tr>\n",
              "    <tr>\n",
              "      <th>31</th>\n",
              "      <td>Action &amp; Adventure</td>\n",
              "      <td>721</td>\n",
              "    </tr>\n",
              "    <tr>\n",
              "      <th>32</th>\n",
              "      <td>Dramas</td>\n",
              "      <td>722</td>\n",
              "    </tr>\n",
              "    <tr>\n",
              "      <th>33</th>\n",
              "      <td>Documentaries</td>\n",
              "      <td>751</td>\n",
              "    </tr>\n",
              "    <tr>\n",
              "      <th>34</th>\n",
              "      <td>Comedies</td>\n",
              "      <td>1074</td>\n",
              "    </tr>\n",
              "    <tr>\n",
              "      <th>35</th>\n",
              "      <td>Dramas</td>\n",
              "      <td>1384</td>\n",
              "    </tr>\n",
              "    <tr>\n",
              "      <th>36</th>\n",
              "      <td>International Movies</td>\n",
              "      <td>2323</td>\n",
              "    </tr>\n",
              "  </tbody>\n",
              "</table>\n",
              "</div>\n",
              "      <button class=\"colab-df-convert\" onclick=\"convertToInteractive('df-f8273d62-e88b-4347-ad8f-a6bba9e6ece6')\"\n",
              "              title=\"Convert this dataframe to an interactive table.\"\n",
              "              style=\"display:none;\">\n",
              "        \n",
              "  <svg xmlns=\"http://www.w3.org/2000/svg\" height=\"24px\"viewBox=\"0 0 24 24\"\n",
              "       width=\"24px\">\n",
              "    <path d=\"M0 0h24v24H0V0z\" fill=\"none\"/>\n",
              "    <path d=\"M18.56 5.44l.94 2.06.94-2.06 2.06-.94-2.06-.94-.94-2.06-.94 2.06-2.06.94zm-11 1L8.5 8.5l.94-2.06 2.06-.94-2.06-.94L8.5 2.5l-.94 2.06-2.06.94zm10 10l.94 2.06.94-2.06 2.06-.94-2.06-.94-.94-2.06-.94 2.06-2.06.94z\"/><path d=\"M17.41 7.96l-1.37-1.37c-.4-.4-.92-.59-1.43-.59-.52 0-1.04.2-1.43.59L10.3 9.45l-7.72 7.72c-.78.78-.78 2.05 0 2.83L4 21.41c.39.39.9.59 1.41.59.51 0 1.02-.2 1.41-.59l7.78-7.78 2.81-2.81c.8-.78.8-2.07 0-2.86zM5.41 20L4 18.59l7.72-7.72 1.47 1.35L5.41 20z\"/>\n",
              "  </svg>\n",
              "      </button>\n",
              "      \n",
              "  <style>\n",
              "    .colab-df-container {\n",
              "      display:flex;\n",
              "      flex-wrap:wrap;\n",
              "      gap: 12px;\n",
              "    }\n",
              "\n",
              "    .colab-df-convert {\n",
              "      background-color: #E8F0FE;\n",
              "      border: none;\n",
              "      border-radius: 50%;\n",
              "      cursor: pointer;\n",
              "      display: none;\n",
              "      fill: #1967D2;\n",
              "      height: 32px;\n",
              "      padding: 0 0 0 0;\n",
              "      width: 32px;\n",
              "    }\n",
              "\n",
              "    .colab-df-convert:hover {\n",
              "      background-color: #E2EBFA;\n",
              "      box-shadow: 0px 1px 2px rgba(60, 64, 67, 0.3), 0px 1px 3px 1px rgba(60, 64, 67, 0.15);\n",
              "      fill: #174EA6;\n",
              "    }\n",
              "\n",
              "    [theme=dark] .colab-df-convert {\n",
              "      background-color: #3B4455;\n",
              "      fill: #D2E3FC;\n",
              "    }\n",
              "\n",
              "    [theme=dark] .colab-df-convert:hover {\n",
              "      background-color: #434B5C;\n",
              "      box-shadow: 0px 1px 3px 1px rgba(0, 0, 0, 0.15);\n",
              "      filter: drop-shadow(0px 1px 2px rgba(0, 0, 0, 0.3));\n",
              "      fill: #FFFFFF;\n",
              "    }\n",
              "  </style>\n",
              "\n",
              "      <script>\n",
              "        const buttonEl =\n",
              "          document.querySelector('#df-f8273d62-e88b-4347-ad8f-a6bba9e6ece6 button.colab-df-convert');\n",
              "        buttonEl.style.display =\n",
              "          google.colab.kernel.accessAllowed ? 'block' : 'none';\n",
              "\n",
              "        async function convertToInteractive(key) {\n",
              "          const element = document.querySelector('#df-f8273d62-e88b-4347-ad8f-a6bba9e6ece6');\n",
              "          const dataTable =\n",
              "            await google.colab.kernel.invokeFunction('convertToInteractive',\n",
              "                                                     [key], {});\n",
              "          if (!dataTable) return;\n",
              "\n",
              "          const docLinkHtml = 'Like what you see? Visit the ' +\n",
              "            '<a target=\"_blank\" href=https://colab.research.google.com/notebooks/data_table.ipynb>data table notebook</a>'\n",
              "            + ' to learn more about interactive tables.';\n",
              "          element.innerHTML = '';\n",
              "          dataTable['output_type'] = 'display_data';\n",
              "          await google.colab.output.renderOutput(dataTable, element);\n",
              "          const docLink = document.createElement('div');\n",
              "          docLink.innerHTML = docLinkHtml;\n",
              "          element.appendChild(docLink);\n",
              "        }\n",
              "      </script>\n",
              "    </div>\n",
              "  </div>\n",
              "  "
            ],
            "text/plain": [
              "                        genre  movie_count\n",
              "0                LGBTQ Movies            1\n",
              "1               Sports Movies            1\n",
              "2             Romantic Movies            3\n",
              "3             Stand-Up Comedy            8\n",
              "4            Sci-Fi & Fantasy           11\n",
              "5                 Cult Movies           12\n",
              "6            Music & Musicals           17\n",
              "7              Anime Features           19\n",
              "8          Independent Movies           20\n",
              "9              Classic Movies           26\n",
              "10   Children & Family Movies           30\n",
              "11              Documentaries           35\n",
              "12             Anime Features           38\n",
              "13                Cult Movies           47\n",
              "14                  Thrillers           49\n",
              "15                     Movies           56\n",
              "16       Faith & Spirituality           57\n",
              "17              Horror Movies           68\n",
              "18             Classic Movies           77\n",
              "19               LGBTQ Movies           89\n",
              "20       International Movies          114\n",
              "21              Sports Movies          195\n",
              "22           Sci-Fi & Fantasy          207\n",
              "23              Horror Movies          244\n",
              "24           Music & Musicals          304\n",
              "25            Stand-Up Comedy          321\n",
              "26                   Comedies          397\n",
              "27                  Thrillers          442\n",
              "28   Children & Family Movies          502\n",
              "29            Romantic Movies          528\n",
              "30         Independent Movies          653\n",
              "31         Action & Adventure          721\n",
              "32                     Dramas          722\n",
              "33              Documentaries          751\n",
              "34                   Comedies         1074\n",
              "35                     Dramas         1384\n",
              "36       International Movies         2323"
            ]
          },
          "metadata": {},
          "execution_count": 63
        }
      ]
    },
    {
      "cell_type": "code",
      "source": [
        "# first look of TV shows genres dataframe\n",
        "TV_genre_df"
      ],
      "metadata": {
        "colab": {
          "base_uri": "https://localhost:8080/",
          "height": 1000
        },
        "id": "L2Gke2OiE0pm",
        "outputId": "7b21240a-b454-475e-d77e-61c814a8bd05"
      },
      "execution_count": 64,
      "outputs": [
        {
          "output_type": "execute_result",
          "data": {
            "text/html": [
              "\n",
              "  <div id=\"df-a3426f90-3ac9-421f-89c2-93e9c2574cec\">\n",
              "    <div class=\"colab-df-container\">\n",
              "      <div>\n",
              "<style scoped>\n",
              "    .dataframe tbody tr th:only-of-type {\n",
              "        vertical-align: middle;\n",
              "    }\n",
              "\n",
              "    .dataframe tbody tr th {\n",
              "        vertical-align: top;\n",
              "    }\n",
              "\n",
              "    .dataframe thead th {\n",
              "        text-align: right;\n",
              "    }\n",
              "</style>\n",
              "<table border=\"1\" class=\"dataframe\">\n",
              "  <thead>\n",
              "    <tr style=\"text-align: right;\">\n",
              "      <th></th>\n",
              "      <th>genre</th>\n",
              "      <th>tv_count</th>\n",
              "    </tr>\n",
              "  </thead>\n",
              "  <tbody>\n",
              "    <tr>\n",
              "      <th>0</th>\n",
              "      <td>TV Sci-Fi &amp; Fantasy</td>\n",
              "      <td>1</td>\n",
              "    </tr>\n",
              "    <tr>\n",
              "      <th>1</th>\n",
              "      <td>Spanish-Language TV Shows</td>\n",
              "      <td>2</td>\n",
              "    </tr>\n",
              "    <tr>\n",
              "      <th>2</th>\n",
              "      <td>Classic &amp; Cult TV</td>\n",
              "      <td>6</td>\n",
              "    </tr>\n",
              "    <tr>\n",
              "      <th>3</th>\n",
              "      <td>TV Horror</td>\n",
              "      <td>10</td>\n",
              "    </tr>\n",
              "    <tr>\n",
              "      <th>4</th>\n",
              "      <td>TV Shows</td>\n",
              "      <td>12</td>\n",
              "    </tr>\n",
              "    <tr>\n",
              "      <th>5</th>\n",
              "      <td>Stand-Up Comedy &amp; Talk Shows</td>\n",
              "      <td>19</td>\n",
              "    </tr>\n",
              "    <tr>\n",
              "      <th>6</th>\n",
              "      <td>Classic &amp; Cult TV</td>\n",
              "      <td>19</td>\n",
              "    </tr>\n",
              "    <tr>\n",
              "      <th>7</th>\n",
              "      <td>Romantic TV Shows</td>\n",
              "      <td>28</td>\n",
              "    </tr>\n",
              "    <tr>\n",
              "      <th>8</th>\n",
              "      <td>Stand-Up Comedy &amp; Talk Shows</td>\n",
              "      <td>33</td>\n",
              "    </tr>\n",
              "    <tr>\n",
              "      <th>9</th>\n",
              "      <td>TV Action &amp; Adventure</td>\n",
              "      <td>36</td>\n",
              "    </tr>\n",
              "    <tr>\n",
              "      <th>10</th>\n",
              "      <td>TV Thrillers</td>\n",
              "      <td>50</td>\n",
              "    </tr>\n",
              "    <tr>\n",
              "      <th>11</th>\n",
              "      <td>Kids' TV</td>\n",
              "      <td>55</td>\n",
              "    </tr>\n",
              "    <tr>\n",
              "      <th>12</th>\n",
              "      <td>Crime TV Shows</td>\n",
              "      <td>57</td>\n",
              "    </tr>\n",
              "    <tr>\n",
              "      <th>13</th>\n",
              "      <td>TV Horror</td>\n",
              "      <td>59</td>\n",
              "    </tr>\n",
              "    <tr>\n",
              "      <th>14</th>\n",
              "      <td>Teen TV Shows</td>\n",
              "      <td>60</td>\n",
              "    </tr>\n",
              "    <tr>\n",
              "      <th>15</th>\n",
              "      <td>TV Dramas</td>\n",
              "      <td>62</td>\n",
              "    </tr>\n",
              "    <tr>\n",
              "      <th>16</th>\n",
              "      <td>TV Sci-Fi &amp; Fantasy</td>\n",
              "      <td>74</td>\n",
              "    </tr>\n",
              "    <tr>\n",
              "      <th>17</th>\n",
              "      <td>Science &amp; Nature TV</td>\n",
              "      <td>85</td>\n",
              "    </tr>\n",
              "    <tr>\n",
              "      <th>18</th>\n",
              "      <td>TV Mysteries</td>\n",
              "      <td>90</td>\n",
              "    </tr>\n",
              "    <tr>\n",
              "      <th>19</th>\n",
              "      <td>Reality TV</td>\n",
              "      <td>102</td>\n",
              "    </tr>\n",
              "    <tr>\n",
              "      <th>20</th>\n",
              "      <td>TV Comedies</td>\n",
              "      <td>109</td>\n",
              "    </tr>\n",
              "    <tr>\n",
              "      <th>21</th>\n",
              "      <td>TV Action &amp; Adventure</td>\n",
              "      <td>113</td>\n",
              "    </tr>\n",
              "    <tr>\n",
              "      <th>22</th>\n",
              "      <td>Reality TV</td>\n",
              "      <td>120</td>\n",
              "    </tr>\n",
              "    <tr>\n",
              "      <th>23</th>\n",
              "      <td>Spanish-Language TV Shows</td>\n",
              "      <td>144</td>\n",
              "    </tr>\n",
              "    <tr>\n",
              "      <th>24</th>\n",
              "      <td>Anime Series</td>\n",
              "      <td>147</td>\n",
              "    </tr>\n",
              "    <tr>\n",
              "      <th>25</th>\n",
              "      <td>Korean TV Shows</td>\n",
              "      <td>150</td>\n",
              "    </tr>\n",
              "    <tr>\n",
              "      <th>26</th>\n",
              "      <td>Docuseries</td>\n",
              "      <td>159</td>\n",
              "    </tr>\n",
              "    <tr>\n",
              "      <th>27</th>\n",
              "      <td>Docuseries</td>\n",
              "      <td>193</td>\n",
              "    </tr>\n",
              "    <tr>\n",
              "      <th>28</th>\n",
              "      <td>British TV Shows</td>\n",
              "      <td>231</td>\n",
              "    </tr>\n",
              "    <tr>\n",
              "      <th>29</th>\n",
              "      <td>Romantic TV Shows</td>\n",
              "      <td>305</td>\n",
              "    </tr>\n",
              "    <tr>\n",
              "      <th>30</th>\n",
              "      <td>Kids' TV</td>\n",
              "      <td>357</td>\n",
              "    </tr>\n",
              "    <tr>\n",
              "      <th>31</th>\n",
              "      <td>Crime TV Shows</td>\n",
              "      <td>369</td>\n",
              "    </tr>\n",
              "    <tr>\n",
              "      <th>32</th>\n",
              "      <td>TV Comedies</td>\n",
              "      <td>409</td>\n",
              "    </tr>\n",
              "    <tr>\n",
              "      <th>33</th>\n",
              "      <td>International TV Shows</td>\n",
              "      <td>509</td>\n",
              "    </tr>\n",
              "    <tr>\n",
              "      <th>34</th>\n",
              "      <td>TV Dramas</td>\n",
              "      <td>641</td>\n",
              "    </tr>\n",
              "    <tr>\n",
              "      <th>35</th>\n",
              "      <td>International TV Shows</td>\n",
              "      <td>689</td>\n",
              "    </tr>\n",
              "  </tbody>\n",
              "</table>\n",
              "</div>\n",
              "      <button class=\"colab-df-convert\" onclick=\"convertToInteractive('df-a3426f90-3ac9-421f-89c2-93e9c2574cec')\"\n",
              "              title=\"Convert this dataframe to an interactive table.\"\n",
              "              style=\"display:none;\">\n",
              "        \n",
              "  <svg xmlns=\"http://www.w3.org/2000/svg\" height=\"24px\"viewBox=\"0 0 24 24\"\n",
              "       width=\"24px\">\n",
              "    <path d=\"M0 0h24v24H0V0z\" fill=\"none\"/>\n",
              "    <path d=\"M18.56 5.44l.94 2.06.94-2.06 2.06-.94-2.06-.94-.94-2.06-.94 2.06-2.06.94zm-11 1L8.5 8.5l.94-2.06 2.06-.94-2.06-.94L8.5 2.5l-.94 2.06-2.06.94zm10 10l.94 2.06.94-2.06 2.06-.94-2.06-.94-.94-2.06-.94 2.06-2.06.94z\"/><path d=\"M17.41 7.96l-1.37-1.37c-.4-.4-.92-.59-1.43-.59-.52 0-1.04.2-1.43.59L10.3 9.45l-7.72 7.72c-.78.78-.78 2.05 0 2.83L4 21.41c.39.39.9.59 1.41.59.51 0 1.02-.2 1.41-.59l7.78-7.78 2.81-2.81c.8-.78.8-2.07 0-2.86zM5.41 20L4 18.59l7.72-7.72 1.47 1.35L5.41 20z\"/>\n",
              "  </svg>\n",
              "      </button>\n",
              "      \n",
              "  <style>\n",
              "    .colab-df-container {\n",
              "      display:flex;\n",
              "      flex-wrap:wrap;\n",
              "      gap: 12px;\n",
              "    }\n",
              "\n",
              "    .colab-df-convert {\n",
              "      background-color: #E8F0FE;\n",
              "      border: none;\n",
              "      border-radius: 50%;\n",
              "      cursor: pointer;\n",
              "      display: none;\n",
              "      fill: #1967D2;\n",
              "      height: 32px;\n",
              "      padding: 0 0 0 0;\n",
              "      width: 32px;\n",
              "    }\n",
              "\n",
              "    .colab-df-convert:hover {\n",
              "      background-color: #E2EBFA;\n",
              "      box-shadow: 0px 1px 2px rgba(60, 64, 67, 0.3), 0px 1px 3px 1px rgba(60, 64, 67, 0.15);\n",
              "      fill: #174EA6;\n",
              "    }\n",
              "\n",
              "    [theme=dark] .colab-df-convert {\n",
              "      background-color: #3B4455;\n",
              "      fill: #D2E3FC;\n",
              "    }\n",
              "\n",
              "    [theme=dark] .colab-df-convert:hover {\n",
              "      background-color: #434B5C;\n",
              "      box-shadow: 0px 1px 3px 1px rgba(0, 0, 0, 0.15);\n",
              "      filter: drop-shadow(0px 1px 2px rgba(0, 0, 0, 0.3));\n",
              "      fill: #FFFFFF;\n",
              "    }\n",
              "  </style>\n",
              "\n",
              "      <script>\n",
              "        const buttonEl =\n",
              "          document.querySelector('#df-a3426f90-3ac9-421f-89c2-93e9c2574cec button.colab-df-convert');\n",
              "        buttonEl.style.display =\n",
              "          google.colab.kernel.accessAllowed ? 'block' : 'none';\n",
              "\n",
              "        async function convertToInteractive(key) {\n",
              "          const element = document.querySelector('#df-a3426f90-3ac9-421f-89c2-93e9c2574cec');\n",
              "          const dataTable =\n",
              "            await google.colab.kernel.invokeFunction('convertToInteractive',\n",
              "                                                     [key], {});\n",
              "          if (!dataTable) return;\n",
              "\n",
              "          const docLinkHtml = 'Like what you see? Visit the ' +\n",
              "            '<a target=\"_blank\" href=https://colab.research.google.com/notebooks/data_table.ipynb>data table notebook</a>'\n",
              "            + ' to learn more about interactive tables.';\n",
              "          element.innerHTML = '';\n",
              "          dataTable['output_type'] = 'display_data';\n",
              "          await google.colab.output.renderOutput(dataTable, element);\n",
              "          const docLink = document.createElement('div');\n",
              "          docLink.innerHTML = docLinkHtml;\n",
              "          element.appendChild(docLink);\n",
              "        }\n",
              "      </script>\n",
              "    </div>\n",
              "  </div>\n",
              "  "
            ],
            "text/plain": [
              "                            genre  tv_count\n",
              "0             TV Sci-Fi & Fantasy         1\n",
              "1       Spanish-Language TV Shows         2\n",
              "2               Classic & Cult TV         6\n",
              "3                       TV Horror        10\n",
              "4                        TV Shows        12\n",
              "5    Stand-Up Comedy & Talk Shows        19\n",
              "6               Classic & Cult TV        19\n",
              "7               Romantic TV Shows        28\n",
              "8    Stand-Up Comedy & Talk Shows        33\n",
              "9           TV Action & Adventure        36\n",
              "10                   TV Thrillers        50\n",
              "11                       Kids' TV        55\n",
              "12                 Crime TV Shows        57\n",
              "13                      TV Horror        59\n",
              "14                  Teen TV Shows        60\n",
              "15                      TV Dramas        62\n",
              "16            TV Sci-Fi & Fantasy        74\n",
              "17            Science & Nature TV        85\n",
              "18                   TV Mysteries        90\n",
              "19                     Reality TV       102\n",
              "20                    TV Comedies       109\n",
              "21          TV Action & Adventure       113\n",
              "22                     Reality TV       120\n",
              "23      Spanish-Language TV Shows       144\n",
              "24                   Anime Series       147\n",
              "25                Korean TV Shows       150\n",
              "26                     Docuseries       159\n",
              "27                     Docuseries       193\n",
              "28               British TV Shows       231\n",
              "29              Romantic TV Shows       305\n",
              "30                       Kids' TV       357\n",
              "31                 Crime TV Shows       369\n",
              "32                    TV Comedies       409\n",
              "33         International TV Shows       509\n",
              "34                      TV Dramas       641\n",
              "35         International TV Shows       689"
            ]
          },
          "metadata": {},
          "execution_count": 64
        }
      ]
    },
    {
      "cell_type": "markdown",
      "source": [
        "* Some rows seems to be exactly same but due to initial space attached they are different.\n",
        "* Need to remove those spaces, so as to get total count of each genres.\n",
        "* After removing spaces, aggregation using pandas pivot table in order to get sum of counts of each genres."
      ],
      "metadata": {
        "id": "ghY_vIvbFBsK"
      }
    },
    {
      "cell_type": "code",
      "source": [
        "# to remove spaces around the word\n",
        "\n",
        "movie_genre_df['genre']=movie_genre_df['genre'].str.strip()\n",
        "TV_genre_df['genre']=TV_genre_df['genre'].str.strip()"
      ],
      "metadata": {
        "id": "L1s92esSE94H"
      },
      "execution_count": 65,
      "outputs": []
    },
    {
      "cell_type": "code",
      "source": [
        "# Aggregating dataframe so as to get final counts of each genres\n",
        "movie_genre_df = pd.pivot_table(movie_genre_df, index=['genre'],values=['movie_count'], aggfunc='sum').reset_index().sort_values('movie_count')\n",
        "TV_genre_df = pd.pivot_table(TV_genre_df, index=['genre'],values=['tv_count'], aggfunc='sum').reset_index().sort_values('tv_count')"
      ],
      "metadata": {
        "id": "1seTcVUAFJP6"
      },
      "execution_count": 66,
      "outputs": []
    },
    {
      "cell_type": "code",
      "source": [
        "# Final movie genres datafrmae look like\n",
        "movie_genre_df"
      ],
      "metadata": {
        "colab": {
          "base_uri": "https://localhost:8080/",
          "height": 677
        },
        "id": "pVdGzIfKFKos",
        "outputId": "6c9680e0-b795-4c12-fdb3-ddae72955732"
      },
      "execution_count": 67,
      "outputs": [
        {
          "output_type": "execute_result",
          "data": {
            "text/html": [
              "\n",
              "  <div id=\"df-1c15ed9a-b54c-4557-ae09-9fcc20f766a1\">\n",
              "    <div class=\"colab-df-container\">\n",
              "      <div>\n",
              "<style scoped>\n",
              "    .dataframe tbody tr th:only-of-type {\n",
              "        vertical-align: middle;\n",
              "    }\n",
              "\n",
              "    .dataframe tbody tr th {\n",
              "        vertical-align: top;\n",
              "    }\n",
              "\n",
              "    .dataframe thead th {\n",
              "        text-align: right;\n",
              "    }\n",
              "</style>\n",
              "<table border=\"1\" class=\"dataframe\">\n",
              "  <thead>\n",
              "    <tr style=\"text-align: right;\">\n",
              "      <th></th>\n",
              "      <th>genre</th>\n",
              "      <th>movie_count</th>\n",
              "    </tr>\n",
              "  </thead>\n",
              "  <tbody>\n",
              "    <tr>\n",
              "      <th>13</th>\n",
              "      <td>Movies</td>\n",
              "      <td>56</td>\n",
              "    </tr>\n",
              "    <tr>\n",
              "      <th>1</th>\n",
              "      <td>Anime Features</td>\n",
              "      <td>57</td>\n",
              "    </tr>\n",
              "    <tr>\n",
              "      <th>8</th>\n",
              "      <td>Faith &amp; Spirituality</td>\n",
              "      <td>57</td>\n",
              "    </tr>\n",
              "    <tr>\n",
              "      <th>5</th>\n",
              "      <td>Cult Movies</td>\n",
              "      <td>59</td>\n",
              "    </tr>\n",
              "    <tr>\n",
              "      <th>12</th>\n",
              "      <td>LGBTQ Movies</td>\n",
              "      <td>90</td>\n",
              "    </tr>\n",
              "    <tr>\n",
              "      <th>3</th>\n",
              "      <td>Classic Movies</td>\n",
              "      <td>103</td>\n",
              "    </tr>\n",
              "    <tr>\n",
              "      <th>17</th>\n",
              "      <td>Sports Movies</td>\n",
              "      <td>196</td>\n",
              "    </tr>\n",
              "    <tr>\n",
              "      <th>16</th>\n",
              "      <td>Sci-Fi &amp; Fantasy</td>\n",
              "      <td>218</td>\n",
              "    </tr>\n",
              "    <tr>\n",
              "      <th>9</th>\n",
              "      <td>Horror Movies</td>\n",
              "      <td>312</td>\n",
              "    </tr>\n",
              "    <tr>\n",
              "      <th>14</th>\n",
              "      <td>Music &amp; Musicals</td>\n",
              "      <td>321</td>\n",
              "    </tr>\n",
              "    <tr>\n",
              "      <th>18</th>\n",
              "      <td>Stand-Up Comedy</td>\n",
              "      <td>329</td>\n",
              "    </tr>\n",
              "    <tr>\n",
              "      <th>19</th>\n",
              "      <td>Thrillers</td>\n",
              "      <td>491</td>\n",
              "    </tr>\n",
              "    <tr>\n",
              "      <th>15</th>\n",
              "      <td>Romantic Movies</td>\n",
              "      <td>531</td>\n",
              "    </tr>\n",
              "    <tr>\n",
              "      <th>2</th>\n",
              "      <td>Children &amp; Family Movies</td>\n",
              "      <td>532</td>\n",
              "    </tr>\n",
              "    <tr>\n",
              "      <th>10</th>\n",
              "      <td>Independent Movies</td>\n",
              "      <td>673</td>\n",
              "    </tr>\n",
              "    <tr>\n",
              "      <th>0</th>\n",
              "      <td>Action &amp; Adventure</td>\n",
              "      <td>721</td>\n",
              "    </tr>\n",
              "    <tr>\n",
              "      <th>6</th>\n",
              "      <td>Documentaries</td>\n",
              "      <td>786</td>\n",
              "    </tr>\n",
              "    <tr>\n",
              "      <th>4</th>\n",
              "      <td>Comedies</td>\n",
              "      <td>1471</td>\n",
              "    </tr>\n",
              "    <tr>\n",
              "      <th>7</th>\n",
              "      <td>Dramas</td>\n",
              "      <td>2106</td>\n",
              "    </tr>\n",
              "    <tr>\n",
              "      <th>11</th>\n",
              "      <td>International Movies</td>\n",
              "      <td>2437</td>\n",
              "    </tr>\n",
              "  </tbody>\n",
              "</table>\n",
              "</div>\n",
              "      <button class=\"colab-df-convert\" onclick=\"convertToInteractive('df-1c15ed9a-b54c-4557-ae09-9fcc20f766a1')\"\n",
              "              title=\"Convert this dataframe to an interactive table.\"\n",
              "              style=\"display:none;\">\n",
              "        \n",
              "  <svg xmlns=\"http://www.w3.org/2000/svg\" height=\"24px\"viewBox=\"0 0 24 24\"\n",
              "       width=\"24px\">\n",
              "    <path d=\"M0 0h24v24H0V0z\" fill=\"none\"/>\n",
              "    <path d=\"M18.56 5.44l.94 2.06.94-2.06 2.06-.94-2.06-.94-.94-2.06-.94 2.06-2.06.94zm-11 1L8.5 8.5l.94-2.06 2.06-.94-2.06-.94L8.5 2.5l-.94 2.06-2.06.94zm10 10l.94 2.06.94-2.06 2.06-.94-2.06-.94-.94-2.06-.94 2.06-2.06.94z\"/><path d=\"M17.41 7.96l-1.37-1.37c-.4-.4-.92-.59-1.43-.59-.52 0-1.04.2-1.43.59L10.3 9.45l-7.72 7.72c-.78.78-.78 2.05 0 2.83L4 21.41c.39.39.9.59 1.41.59.51 0 1.02-.2 1.41-.59l7.78-7.78 2.81-2.81c.8-.78.8-2.07 0-2.86zM5.41 20L4 18.59l7.72-7.72 1.47 1.35L5.41 20z\"/>\n",
              "  </svg>\n",
              "      </button>\n",
              "      \n",
              "  <style>\n",
              "    .colab-df-container {\n",
              "      display:flex;\n",
              "      flex-wrap:wrap;\n",
              "      gap: 12px;\n",
              "    }\n",
              "\n",
              "    .colab-df-convert {\n",
              "      background-color: #E8F0FE;\n",
              "      border: none;\n",
              "      border-radius: 50%;\n",
              "      cursor: pointer;\n",
              "      display: none;\n",
              "      fill: #1967D2;\n",
              "      height: 32px;\n",
              "      padding: 0 0 0 0;\n",
              "      width: 32px;\n",
              "    }\n",
              "\n",
              "    .colab-df-convert:hover {\n",
              "      background-color: #E2EBFA;\n",
              "      box-shadow: 0px 1px 2px rgba(60, 64, 67, 0.3), 0px 1px 3px 1px rgba(60, 64, 67, 0.15);\n",
              "      fill: #174EA6;\n",
              "    }\n",
              "\n",
              "    [theme=dark] .colab-df-convert {\n",
              "      background-color: #3B4455;\n",
              "      fill: #D2E3FC;\n",
              "    }\n",
              "\n",
              "    [theme=dark] .colab-df-convert:hover {\n",
              "      background-color: #434B5C;\n",
              "      box-shadow: 0px 1px 3px 1px rgba(0, 0, 0, 0.15);\n",
              "      filter: drop-shadow(0px 1px 2px rgba(0, 0, 0, 0.3));\n",
              "      fill: #FFFFFF;\n",
              "    }\n",
              "  </style>\n",
              "\n",
              "      <script>\n",
              "        const buttonEl =\n",
              "          document.querySelector('#df-1c15ed9a-b54c-4557-ae09-9fcc20f766a1 button.colab-df-convert');\n",
              "        buttonEl.style.display =\n",
              "          google.colab.kernel.accessAllowed ? 'block' : 'none';\n",
              "\n",
              "        async function convertToInteractive(key) {\n",
              "          const element = document.querySelector('#df-1c15ed9a-b54c-4557-ae09-9fcc20f766a1');\n",
              "          const dataTable =\n",
              "            await google.colab.kernel.invokeFunction('convertToInteractive',\n",
              "                                                     [key], {});\n",
              "          if (!dataTable) return;\n",
              "\n",
              "          const docLinkHtml = 'Like what you see? Visit the ' +\n",
              "            '<a target=\"_blank\" href=https://colab.research.google.com/notebooks/data_table.ipynb>data table notebook</a>'\n",
              "            + ' to learn more about interactive tables.';\n",
              "          element.innerHTML = '';\n",
              "          dataTable['output_type'] = 'display_data';\n",
              "          await google.colab.output.renderOutput(dataTable, element);\n",
              "          const docLink = document.createElement('div');\n",
              "          docLink.innerHTML = docLinkHtml;\n",
              "          element.appendChild(docLink);\n",
              "        }\n",
              "      </script>\n",
              "    </div>\n",
              "  </div>\n",
              "  "
            ],
            "text/plain": [
              "                       genre  movie_count\n",
              "13                    Movies           56\n",
              "1             Anime Features           57\n",
              "8       Faith & Spirituality           57\n",
              "5                Cult Movies           59\n",
              "12              LGBTQ Movies           90\n",
              "3             Classic Movies          103\n",
              "17             Sports Movies          196\n",
              "16          Sci-Fi & Fantasy          218\n",
              "9              Horror Movies          312\n",
              "14          Music & Musicals          321\n",
              "18           Stand-Up Comedy          329\n",
              "19                 Thrillers          491\n",
              "15           Romantic Movies          531\n",
              "2   Children & Family Movies          532\n",
              "10        Independent Movies          673\n",
              "0         Action & Adventure          721\n",
              "6              Documentaries          786\n",
              "4                   Comedies         1471\n",
              "7                     Dramas         2106\n",
              "11      International Movies         2437"
            ]
          },
          "metadata": {},
          "execution_count": 67
        }
      ]
    },
    {
      "cell_type": "code",
      "source": [
        "# Final TV shows genres datafrmae look like\n",
        "TV_genre_df"
      ],
      "metadata": {
        "colab": {
          "base_uri": "https://localhost:8080/",
          "height": 739
        },
        "id": "2ILeHimFFOMX",
        "outputId": "7489f33b-9694-4eb7-9e44-b4cb8d270eed"
      },
      "execution_count": 68,
      "outputs": [
        {
          "output_type": "execute_result",
          "data": {
            "text/html": [
              "\n",
              "  <div id=\"df-8d3bbcc2-90fc-4345-a934-8543cb9291cd\">\n",
              "    <div class=\"colab-df-container\">\n",
              "      <div>\n",
              "<style scoped>\n",
              "    .dataframe tbody tr th:only-of-type {\n",
              "        vertical-align: middle;\n",
              "    }\n",
              "\n",
              "    .dataframe tbody tr th {\n",
              "        vertical-align: top;\n",
              "    }\n",
              "\n",
              "    .dataframe thead th {\n",
              "        text-align: right;\n",
              "    }\n",
              "</style>\n",
              "<table border=\"1\" class=\"dataframe\">\n",
              "  <thead>\n",
              "    <tr style=\"text-align: right;\">\n",
              "      <th></th>\n",
              "      <th>genre</th>\n",
              "      <th>tv_count</th>\n",
              "    </tr>\n",
              "  </thead>\n",
              "  <tbody>\n",
              "    <tr>\n",
              "      <th>19</th>\n",
              "      <td>TV Shows</td>\n",
              "      <td>12</td>\n",
              "    </tr>\n",
              "    <tr>\n",
              "      <th>2</th>\n",
              "      <td>Classic &amp; Cult TV</td>\n",
              "      <td>25</td>\n",
              "    </tr>\n",
              "    <tr>\n",
              "      <th>20</th>\n",
              "      <td>TV Thrillers</td>\n",
              "      <td>50</td>\n",
              "    </tr>\n",
              "    <tr>\n",
              "      <th>12</th>\n",
              "      <td>Stand-Up Comedy &amp; Talk Shows</td>\n",
              "      <td>52</td>\n",
              "    </tr>\n",
              "    <tr>\n",
              "      <th>21</th>\n",
              "      <td>Teen TV Shows</td>\n",
              "      <td>60</td>\n",
              "    </tr>\n",
              "    <tr>\n",
              "      <th>16</th>\n",
              "      <td>TV Horror</td>\n",
              "      <td>69</td>\n",
              "    </tr>\n",
              "    <tr>\n",
              "      <th>18</th>\n",
              "      <td>TV Sci-Fi &amp; Fantasy</td>\n",
              "      <td>75</td>\n",
              "    </tr>\n",
              "    <tr>\n",
              "      <th>10</th>\n",
              "      <td>Science &amp; Nature TV</td>\n",
              "      <td>85</td>\n",
              "    </tr>\n",
              "    <tr>\n",
              "      <th>17</th>\n",
              "      <td>TV Mysteries</td>\n",
              "      <td>90</td>\n",
              "    </tr>\n",
              "    <tr>\n",
              "      <th>11</th>\n",
              "      <td>Spanish-Language TV Shows</td>\n",
              "      <td>146</td>\n",
              "    </tr>\n",
              "    <tr>\n",
              "      <th>0</th>\n",
              "      <td>Anime Series</td>\n",
              "      <td>147</td>\n",
              "    </tr>\n",
              "    <tr>\n",
              "      <th>13</th>\n",
              "      <td>TV Action &amp; Adventure</td>\n",
              "      <td>149</td>\n",
              "    </tr>\n",
              "    <tr>\n",
              "      <th>7</th>\n",
              "      <td>Korean TV Shows</td>\n",
              "      <td>150</td>\n",
              "    </tr>\n",
              "    <tr>\n",
              "      <th>8</th>\n",
              "      <td>Reality TV</td>\n",
              "      <td>222</td>\n",
              "    </tr>\n",
              "    <tr>\n",
              "      <th>1</th>\n",
              "      <td>British TV Shows</td>\n",
              "      <td>231</td>\n",
              "    </tr>\n",
              "    <tr>\n",
              "      <th>9</th>\n",
              "      <td>Romantic TV Shows</td>\n",
              "      <td>333</td>\n",
              "    </tr>\n",
              "    <tr>\n",
              "      <th>4</th>\n",
              "      <td>Docuseries</td>\n",
              "      <td>352</td>\n",
              "    </tr>\n",
              "    <tr>\n",
              "      <th>6</th>\n",
              "      <td>Kids' TV</td>\n",
              "      <td>412</td>\n",
              "    </tr>\n",
              "    <tr>\n",
              "      <th>3</th>\n",
              "      <td>Crime TV Shows</td>\n",
              "      <td>426</td>\n",
              "    </tr>\n",
              "    <tr>\n",
              "      <th>14</th>\n",
              "      <td>TV Comedies</td>\n",
              "      <td>518</td>\n",
              "    </tr>\n",
              "    <tr>\n",
              "      <th>15</th>\n",
              "      <td>TV Dramas</td>\n",
              "      <td>703</td>\n",
              "    </tr>\n",
              "    <tr>\n",
              "      <th>5</th>\n",
              "      <td>International TV Shows</td>\n",
              "      <td>1198</td>\n",
              "    </tr>\n",
              "  </tbody>\n",
              "</table>\n",
              "</div>\n",
              "      <button class=\"colab-df-convert\" onclick=\"convertToInteractive('df-8d3bbcc2-90fc-4345-a934-8543cb9291cd')\"\n",
              "              title=\"Convert this dataframe to an interactive table.\"\n",
              "              style=\"display:none;\">\n",
              "        \n",
              "  <svg xmlns=\"http://www.w3.org/2000/svg\" height=\"24px\"viewBox=\"0 0 24 24\"\n",
              "       width=\"24px\">\n",
              "    <path d=\"M0 0h24v24H0V0z\" fill=\"none\"/>\n",
              "    <path d=\"M18.56 5.44l.94 2.06.94-2.06 2.06-.94-2.06-.94-.94-2.06-.94 2.06-2.06.94zm-11 1L8.5 8.5l.94-2.06 2.06-.94-2.06-.94L8.5 2.5l-.94 2.06-2.06.94zm10 10l.94 2.06.94-2.06 2.06-.94-2.06-.94-.94-2.06-.94 2.06-2.06.94z\"/><path d=\"M17.41 7.96l-1.37-1.37c-.4-.4-.92-.59-1.43-.59-.52 0-1.04.2-1.43.59L10.3 9.45l-7.72 7.72c-.78.78-.78 2.05 0 2.83L4 21.41c.39.39.9.59 1.41.59.51 0 1.02-.2 1.41-.59l7.78-7.78 2.81-2.81c.8-.78.8-2.07 0-2.86zM5.41 20L4 18.59l7.72-7.72 1.47 1.35L5.41 20z\"/>\n",
              "  </svg>\n",
              "      </button>\n",
              "      \n",
              "  <style>\n",
              "    .colab-df-container {\n",
              "      display:flex;\n",
              "      flex-wrap:wrap;\n",
              "      gap: 12px;\n",
              "    }\n",
              "\n",
              "    .colab-df-convert {\n",
              "      background-color: #E8F0FE;\n",
              "      border: none;\n",
              "      border-radius: 50%;\n",
              "      cursor: pointer;\n",
              "      display: none;\n",
              "      fill: #1967D2;\n",
              "      height: 32px;\n",
              "      padding: 0 0 0 0;\n",
              "      width: 32px;\n",
              "    }\n",
              "\n",
              "    .colab-df-convert:hover {\n",
              "      background-color: #E2EBFA;\n",
              "      box-shadow: 0px 1px 2px rgba(60, 64, 67, 0.3), 0px 1px 3px 1px rgba(60, 64, 67, 0.15);\n",
              "      fill: #174EA6;\n",
              "    }\n",
              "\n",
              "    [theme=dark] .colab-df-convert {\n",
              "      background-color: #3B4455;\n",
              "      fill: #D2E3FC;\n",
              "    }\n",
              "\n",
              "    [theme=dark] .colab-df-convert:hover {\n",
              "      background-color: #434B5C;\n",
              "      box-shadow: 0px 1px 3px 1px rgba(0, 0, 0, 0.15);\n",
              "      filter: drop-shadow(0px 1px 2px rgba(0, 0, 0, 0.3));\n",
              "      fill: #FFFFFF;\n",
              "    }\n",
              "  </style>\n",
              "\n",
              "      <script>\n",
              "        const buttonEl =\n",
              "          document.querySelector('#df-8d3bbcc2-90fc-4345-a934-8543cb9291cd button.colab-df-convert');\n",
              "        buttonEl.style.display =\n",
              "          google.colab.kernel.accessAllowed ? 'block' : 'none';\n",
              "\n",
              "        async function convertToInteractive(key) {\n",
              "          const element = document.querySelector('#df-8d3bbcc2-90fc-4345-a934-8543cb9291cd');\n",
              "          const dataTable =\n",
              "            await google.colab.kernel.invokeFunction('convertToInteractive',\n",
              "                                                     [key], {});\n",
              "          if (!dataTable) return;\n",
              "\n",
              "          const docLinkHtml = 'Like what you see? Visit the ' +\n",
              "            '<a target=\"_blank\" href=https://colab.research.google.com/notebooks/data_table.ipynb>data table notebook</a>'\n",
              "            + ' to learn more about interactive tables.';\n",
              "          element.innerHTML = '';\n",
              "          dataTable['output_type'] = 'display_data';\n",
              "          await google.colab.output.renderOutput(dataTable, element);\n",
              "          const docLink = document.createElement('div');\n",
              "          docLink.innerHTML = docLinkHtml;\n",
              "          element.appendChild(docLink);\n",
              "        }\n",
              "      </script>\n",
              "    </div>\n",
              "  </div>\n",
              "  "
            ],
            "text/plain": [
              "                           genre  tv_count\n",
              "19                      TV Shows        12\n",
              "2              Classic & Cult TV        25\n",
              "20                  TV Thrillers        50\n",
              "12  Stand-Up Comedy & Talk Shows        52\n",
              "21                 Teen TV Shows        60\n",
              "16                     TV Horror        69\n",
              "18           TV Sci-Fi & Fantasy        75\n",
              "10           Science & Nature TV        85\n",
              "17                  TV Mysteries        90\n",
              "11     Spanish-Language TV Shows       146\n",
              "0                   Anime Series       147\n",
              "13         TV Action & Adventure       149\n",
              "7                Korean TV Shows       150\n",
              "8                     Reality TV       222\n",
              "1               British TV Shows       231\n",
              "9              Romantic TV Shows       333\n",
              "4                     Docuseries       352\n",
              "6                       Kids' TV       412\n",
              "3                 Crime TV Shows       426\n",
              "14                   TV Comedies       518\n",
              "15                     TV Dramas       703\n",
              "5         International TV Shows      1198"
            ]
          },
          "metadata": {},
          "execution_count": 68
        }
      ]
    },
    {
      "cell_type": "markdown",
      "source": [
        "### **Top 5 Genres with Maximum Number of Movies**"
      ],
      "metadata": {
        "id": "OydZsnRjFWve"
      }
    },
    {
      "cell_type": "code",
      "source": [
        "# bar plot showing top 5 genres in movies\n",
        "fig, ax = plt.subplots(figsize=(10,5),facecolor=\"#999999\")\n",
        "ax.patch.set_facecolor('#999999')\n",
        "ax.barh(y=movie_genre_df['genre'][-5:], width = movie_genre_df['movie_count'][-5:]/movie_genre_df['movie_count'].sum()*100, height=0.5, color = 'green',alpha=0.8)\n",
        "ax.tick_params(axis= 'x', colors='#ffff00',labelsize=15) \n",
        "ax.tick_params(axis='y', colors='#ffff00',labelsize=15)\n",
        "ax.set_xlabel(\"Percentage\", color='#333399', fontsize=15)\n",
        "ax.set_ylabel(\"Genres\", color='#333399', fontsize=15)\n",
        "ax.set_title(\"Top 5 Genres in Movies\", color='#333399', fontsize=20)\n",
        "ax.spines['right'].set_visible(False)\n",
        "ax.spines['top'].set_visible(False)\n",
        "ax.spines['left'].set_visible(True)"
      ],
      "metadata": {
        "colab": {
          "base_uri": "https://localhost:8080/",
          "height": 365
        },
        "id": "5JKF4bdDFRuX",
        "outputId": "ceda50e6-44f8-4588-f051-7793375fd2b3"
      },
      "execution_count": 72,
      "outputs": [
        {
          "output_type": "display_data",
          "data": {
            "image/png": "[encoded data removed]",
            "text/plain": [
              "<Figure size 720x360 with 1 Axes>"
            ]
          },
          "metadata": {}
        }
      ]
    },
    {
      "cell_type": "code",
      "source": [
        "# bar plot showing top 5 genres in TV shows\n",
        "fig, ax = plt.subplots(figsize=(10,5),facecolor=\"#999999\")\n",
        "ax.patch.set_facecolor('#999999')\n",
        "ax.barh(y=TV_genre_df['genre'][-5:], width = TV_genre_df['tv_count'][-5:]/TV_genre_df['tv_count'].sum()*100,\n",
        "        height=0.5, color = 'green',alpha=0.8)\n",
        "ax.tick_params(axis= 'x', colors='#ffff00',labelsize=15) \n",
        "ax.tick_params(axis='y', colors='#ffff00',labelsize=15)\n",
        "ax.set_xlabel(\"Percentage\", color='#333399', fontsize=20)\n",
        "ax.set_ylabel(\"Genres\", color='#333399', fontsize=20)\n",
        "ax.set_title(\"Top 5 Genres in TV Shows\", color='#333399', fontsize=25)\n",
        "ax.spines['right'].set_visible(False)\n",
        "ax.spines['top'].set_visible(False)\n",
        "ax.spines['left'].set_visible(True)"
      ],
      "metadata": {
        "colab": {
          "base_uri": "https://localhost:8080/",
          "height": 373
        },
        "id": "VsjjcaCeFjit",
        "outputId": "6dacba3c-9c87-4fa4-ddb9-dcb93b7d4e1e"
      },
      "execution_count": 73,
      "outputs": [
        {
          "output_type": "display_data",
          "data": {
            "image/png": "[encoded data removed]",
            "text/plain": [
              "<Figure size 720x360 with 1 Axes>"
            ]
          },
          "metadata": {}
        }
      ]
    },
    {
      "cell_type": "markdown",
      "source": [
        "* Top 3 genres are exactly same for movies and TV shows.\n",
        "* Dramas genres hit all over the world."
      ],
      "metadata": {
        "id": "KPXvzZ6mGccN"
      }
    },
    {
      "cell_type": "markdown",
      "source": [
        "## **Originally Uploaded on Netflix**"
      ],
      "metadata": {
        "id": "qI-FuBciHULB"
      }
    },
    {
      "cell_type": "markdown",
      "source": [
        "* Some movies and TV shows were actually released in the past and they were added later on Netflix. \n",
        "* But some movies and TV shows were released on Netflix itself. Named those as Netflix Originals.\n",
        "\n",
        "\n",
        "\n",
        "* **Originals** : For which released year and added year is same."
      ],
      "metadata": {
        "id": "kSEd3mmCHYg4"
      }
    },
    {
      "cell_type": "markdown",
      "source": [
        "### Creating new feature as originals having values Yes and No."
      ],
      "metadata": {
        "id": "5z7kynYcHh0q"
      }
    },
    {
      "cell_type": "code",
      "source": [
        "movies_df['originals'] = np.where(movies_df['release_year']==movies_df['year_added'], 'Yes', 'No')"
      ],
      "metadata": {
        "id": "rGXXMDozGNoB"
      },
      "execution_count": 74,
      "outputs": []
    },
    {
      "cell_type": "code",
      "source": [
        "# pie plot showing percentage of originals and others in movies\n",
        "fig, ax = plt.subplots(figsize=(5,5),facecolor=\"#999999\")\n",
        "ax.patch.set_facecolor('#999999')\n",
        "explode = (0, 0.1)\n",
        "ax.pie(movies_df['originals'].value_counts(), explode=explode, autopct='%.2f%%', labels= ['Others', 'Originals'],\n",
        "       shadow=True, startangle=90,textprops={'color':\"green\", 'fontsize': 20}, colors =['#ffff00','#333399'])\n",
        "\n",
        "plt.show()"
      ],
      "metadata": {
        "colab": {
          "base_uri": "https://localhost:8080/",
          "height": 303
        },
        "id": "NOd_cPbvHwXz",
        "outputId": "41410164-e5aa-4717-d92e-bc06f7130299"
      },
      "execution_count": 80,
      "outputs": [
        {
          "output_type": "display_data",
          "data": {
            "image/png": "[encoded data removed]",
            "text/plain": [
              "<Figure size 360x360 with 1 Axes>"
            ]
          },
          "metadata": {}
        }
      ]
    },
    {
      "cell_type": "markdown",
      "source": [
        "* 30% movies released on Netflix.\n",
        "* 70% movies added on Netflix were released earlier by different mode. \n",
        "* May be after buying rights of old released movies and then adding all the movies on Netflix."
      ],
      "metadata": {
        "id": "geq4vMK6I1Ox"
      }
    },
    {
      "cell_type": "markdown",
      "source": [
        "### **Originals in TV Shows**"
      ],
      "metadata": {
        "id": "Zcz2GjYEI378"
      }
    },
    {
      "cell_type": "code",
      "source": [
        "tv_df['originals'] = np.where(tv_df['release_year']==tv_df['year_added'], 'Yes', 'No')"
      ],
      "metadata": {
        "id": "M6yVzdouH9qB"
      },
      "execution_count": 81,
      "outputs": []
    },
    {
      "cell_type": "code",
      "source": [
        "# pie plot showing percentage of originals and others in movies\n",
        "fig, ax = plt.subplots(figsize=(5,5),facecolor=\"#999999\")\n",
        "ax.patch.set_facecolor('#999999')\n",
        "explode = (0, 0.1)\n",
        "ax.pie(tv_df['originals'].value_counts(), explode=explode, autopct='%.2f%%', labels= ['Others', 'Originals'],\n",
        "       shadow=True, startangle=90,textprops={'color':\"green\", 'fontsize': 20}, colors =['#ffff00','#333399'])\n",
        "plt.show()"
      ],
      "metadata": {
        "colab": {
          "base_uri": "https://localhost:8080/",
          "height": 303
        },
        "id": "rIASG3CAI7Jj",
        "outputId": "258b75d3-0f39-474a-ac92-f4c7b44b962b"
      },
      "execution_count": 86,
      "outputs": [
        {
          "output_type": "display_data",
          "data": {
            "image/png": "[encoded data removed]",
            "text/plain": [
              "<Figure size 360x360 with 1 Axes>"
            ]
          },
          "metadata": {}
        }
      ]
    },
    {
      "cell_type": "markdown",
      "source": [
        "* 50-50\n",
        "* 50% TV shows originaly from Netflix whereas remaining 50% were added after released on different mode."
      ],
      "metadata": {
        "id": "io7VXBGzKDQ7"
      }
    },
    {
      "cell_type": "markdown",
      "source": [
        "# **Data Preprocessing**"
      ],
      "metadata": {
        "id": "60oybisrKExk"
      }
    },
    {
      "cell_type": "code",
      "source": [
        ""
      ],
      "metadata": {
        "id": "-b7vB-JoJjNG"
      },
      "execution_count": null,
      "outputs": []
    }
  ]
}